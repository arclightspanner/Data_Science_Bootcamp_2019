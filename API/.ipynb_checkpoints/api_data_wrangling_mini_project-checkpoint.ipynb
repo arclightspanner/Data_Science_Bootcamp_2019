{
 "cells": [
  {
   "cell_type": "markdown",
   "metadata": {},
   "source": [
    "This exercise will require you to pull some data from the Qunadl API. Qaundl is currently the most widely used aggregator of financial market data."
   ]
  },
  {
   "cell_type": "markdown",
   "metadata": {},
   "source": [
    "As a first step, you will need to register a free account on the http://www.quandl.com website."
   ]
  },
  {
   "cell_type": "markdown",
   "metadata": {},
   "source": [
    "After you register, you will be provided with a unique API key, that you should store:"
   ]
  },
  {
   "cell_type": "code",
   "execution_count": 1,
   "metadata": {},
   "outputs": [],
   "source": [
    "# Store the API key as a string - according to PEP8, constants are always named in all upper case\n",
    "API_KEY = '...'"
   ]
  },
  {
   "cell_type": "markdown",
   "metadata": {},
   "source": [
    "Qaundl has a large number of data sources, but, unfortunately, most of them require a Premium subscription. Still, there are also a good number of free datasets."
   ]
  },
  {
   "cell_type": "markdown",
   "metadata": {},
   "source": [
    "For this mini project, we will focus on equities data from the Frankfurt Stock Exhange (FSE), which is available for free. We'll try and analyze the stock prices of a company called Carl Zeiss Meditec, which manufactures tools for eye examinations, as well as medical lasers for laser eye surgery: https://www.zeiss.com/meditec/int/home.html. The company is listed under the stock ticker AFX_X."
   ]
  },
  {
   "cell_type": "markdown",
   "metadata": {},
   "source": [
    "You can find the detailed Quandl API instructions here: https://docs.quandl.com/docs/time-series"
   ]
  },
  {
   "cell_type": "markdown",
   "metadata": {},
   "source": [
    "While there is a dedicated Python package for connecting to the Quandl API, we would prefer that you use the *requests* package, which can be easily downloaded using *pip* or *conda*. You can find the documentation for the package here: http://docs.python-requests.org/en/master/ "
   ]
  },
  {
   "cell_type": "markdown",
   "metadata": {},
   "source": [
    "Finally, apart from the *requests* package, you are encouraged to not use any third party Python packages, such as *pandas*, and instead focus on what's available in the Python Standard Library (the *collections* module might come in handy: https://pymotw.com/3/collections/ ).\n",
    "Also, since you won't have access to DataFrames, you are encouraged to us Python's native data structures - preferably dictionaries, though some questions can also be answered using lists.\n",
    "You can read more on these data structures here: https://docs.python.org/3/tutorial/datastructures.html"
   ]
  },
  {
   "cell_type": "markdown",
   "metadata": {},
   "source": [
    "Keep in mind that the JSON responses you will be getting from the API map almost one-to-one to Python's dictionaries. Unfortunately, they can be very nested, so make sure you read up on indexing dictionaries in the documentation provided above."
   ]
  },
  {
   "cell_type": "code",
   "execution_count": 2,
   "metadata": {},
   "outputs": [],
   "source": [
    "# First, import the relevant modules\n",
    "import csv\n",
    "import requests\n",
    "import pandas as pd\n",
    "import json\n",
    "import numpy as np\n",
    "from pandas.io.json import json_normalize"
   ]
  },
  {
   "cell_type": "code",
   "execution_count": 3,
   "metadata": {},
   "outputs": [
    {
     "name": "stdout",
     "output_type": "stream",
     "text": [
      "https://www.quandl.com/api/v3/datasets/FSE/AFX_X.json?&start_date=2019-07-15&end_date=2019-07-15&api_key=rxKC3fzqYdkKQugsSsMQ\n"
     ]
    },
    {
     "data": {
      "text/plain": [
       "dict_keys(['dataset'])"
      ]
     },
     "execution_count": 3,
     "metadata": {},
     "output_type": "execute_result"
    }
   ],
   "source": [
    "# Now, call the Quandl API and pull out a small sample of the data (only one day) to get a glimpse\n",
    "# into the JSON structure that will be returned\n",
    "\n",
    "url = \"https://www.quandl.com/api/v3/datasets/FSE/AFX_X.json?&start_date=2019-07-15&end_date=2019-07-15&api_key=\" + API_KEY\n",
    "print(url)\n",
    "res = requests.get(url)\n",
    "j = res.json()\n",
    "j.keys()"
   ]
  },
  {
   "cell_type": "code",
   "execution_count": 4,
   "metadata": {},
   "outputs": [
    {
     "data": {
      "text/html": [
       "<div>\n",
       "<style scoped>\n",
       "    .dataframe tbody tr th:only-of-type {\n",
       "        vertical-align: middle;\n",
       "    }\n",
       "\n",
       "    .dataframe tbody tr th {\n",
       "        vertical-align: top;\n",
       "    }\n",
       "\n",
       "    .dataframe thead th {\n",
       "        text-align: right;\n",
       "    }\n",
       "</style>\n",
       "<table border=\"1\" class=\"dataframe\">\n",
       "  <thead>\n",
       "    <tr style=\"text-align: right;\">\n",
       "      <th></th>\n",
       "      <th>collapse</th>\n",
       "      <th>column_index</th>\n",
       "      <th>column_names</th>\n",
       "      <th>data</th>\n",
       "      <th>database_code</th>\n",
       "      <th>database_id</th>\n",
       "      <th>dataset_code</th>\n",
       "      <th>description</th>\n",
       "      <th>end_date</th>\n",
       "      <th>frequency</th>\n",
       "      <th>...</th>\n",
       "      <th>limit</th>\n",
       "      <th>name</th>\n",
       "      <th>newest_available_date</th>\n",
       "      <th>oldest_available_date</th>\n",
       "      <th>order</th>\n",
       "      <th>premium</th>\n",
       "      <th>refreshed_at</th>\n",
       "      <th>start_date</th>\n",
       "      <th>transform</th>\n",
       "      <th>type</th>\n",
       "    </tr>\n",
       "  </thead>\n",
       "  <tbody>\n",
       "    <tr>\n",
       "      <th>0</th>\n",
       "      <td>None</td>\n",
       "      <td>None</td>\n",
       "      <td>[Date, Open, High, Low, Close, Change, Traded ...</td>\n",
       "      <td>[[2019-07-15, 84.8, 94.1, 84.8, 93.6, None, 48...</td>\n",
       "      <td>FSE</td>\n",
       "      <td>6129</td>\n",
       "      <td>AFX_X</td>\n",
       "      <td>Stock Prices for Carl Zeiss Meditec (2019-07-0...</td>\n",
       "      <td>2019-07-15</td>\n",
       "      <td>daily</td>\n",
       "      <td>...</td>\n",
       "      <td>None</td>\n",
       "      <td>Carl Zeiss Meditec (AFX_X)</td>\n",
       "      <td>2019-07-19</td>\n",
       "      <td>2000-06-07</td>\n",
       "      <td>None</td>\n",
       "      <td>False</td>\n",
       "      <td>2019-07-19T22:19:21.457Z</td>\n",
       "      <td>2019-07-15</td>\n",
       "      <td>None</td>\n",
       "      <td>Time Series</td>\n",
       "    </tr>\n",
       "  </tbody>\n",
       "</table>\n",
       "<p>1 rows × 21 columns</p>\n",
       "</div>"
      ],
      "text/plain": [
       "  collapse column_index                                       column_names  \\\n",
       "0     None         None  [Date, Open, High, Low, Close, Change, Traded ...   \n",
       "\n",
       "                                                data database_code  \\\n",
       "0  [[2019-07-15, 84.8, 94.1, 84.8, 93.6, None, 48...           FSE   \n",
       "\n",
       "   database_id dataset_code  \\\n",
       "0         6129        AFX_X   \n",
       "\n",
       "                                         description    end_date frequency  \\\n",
       "0  Stock Prices for Carl Zeiss Meditec (2019-07-0...  2019-07-15     daily   \n",
       "\n",
       "   ...  limit                        name newest_available_date  \\\n",
       "0  ...   None  Carl Zeiss Meditec (AFX_X)            2019-07-19   \n",
       "\n",
       "  oldest_available_date order premium              refreshed_at  start_date  \\\n",
       "0            2000-06-07  None   False  2019-07-19T22:19:21.457Z  2019-07-15   \n",
       "\n",
       "  transform         type  \n",
       "0      None  Time Series  \n",
       "\n",
       "[1 rows x 21 columns]"
      ]
     },
     "execution_count": 4,
     "metadata": {},
     "output_type": "execute_result"
    }
   ],
   "source": [
    "# Obtain a basic structure of the dataset\n",
    "json_normalize(j['dataset'])"
   ]
  },
  {
   "cell_type": "code",
   "execution_count": 5,
   "metadata": {},
   "outputs": [
    {
     "data": {
      "text/plain": [
       "dict_keys(['id', 'dataset_code', 'database_code', 'name', 'description', 'refreshed_at', 'newest_available_date', 'oldest_available_date', 'column_names', 'frequency', 'type', 'premium', 'limit', 'transform', 'column_index', 'start_date', 'end_date', 'data', 'collapse', 'order', 'database_id'])"
      ]
     },
     "execution_count": 5,
     "metadata": {},
     "output_type": "execute_result"
    }
   ],
   "source": [
    "# Obtain all columns within the dataframe above\n",
    "j['dataset'].keys()"
   ]
  },
  {
   "cell_type": "code",
   "execution_count": 6,
   "metadata": {},
   "outputs": [
    {
     "name": "stdout",
     "output_type": "stream",
     "text": [
      "{'dataset': {'id': 10095370, 'dataset_code': 'AFX_X', 'database_code': 'FSE', 'name': 'Carl Zeiss Meditec (AFX_X)', 'description': 'Stock Prices for Carl Zeiss Meditec (2019-07-05) from the Frankfurt Stock Exchange.<br><br>Trading System: Xetra<br><br>ISIN: DE0005313704', 'refreshed_at': '2019-07-19T22:19:21.457Z', 'newest_available_date': '2019-07-19', 'oldest_available_date': '2000-06-07', 'column_names': ['Date', 'Open', 'High', 'Low', 'Close', 'Change', 'Traded Volume', 'Turnover', 'Last Price of the Day', 'Daily Traded Units', 'Daily Turnover'], 'frequency': 'daily', 'type': 'Time Series', 'premium': False, 'limit': None, 'transform': None, 'column_index': None, 'start_date': '2019-07-15', 'end_date': '2019-07-15', 'data': [['2019-07-15', 84.8, 94.1, 84.8, 93.6, None, 481793.0, 43283072.0, None, None, None]], 'collapse': None, 'order': None, 'database_id': 6129}}\n"
     ]
    }
   ],
   "source": [
    "print(j)"
   ]
  },
  {
   "cell_type": "code",
   "execution_count": 7,
   "metadata": {
    "scrolled": true
   },
   "outputs": [
    {
     "data": {
      "text/html": [
       "<div>\n",
       "<style scoped>\n",
       "    .dataframe tbody tr th:only-of-type {\n",
       "        vertical-align: middle;\n",
       "    }\n",
       "\n",
       "    .dataframe tbody tr th {\n",
       "        vertical-align: top;\n",
       "    }\n",
       "\n",
       "    .dataframe thead th {\n",
       "        text-align: right;\n",
       "    }\n",
       "</style>\n",
       "<table border=\"1\" class=\"dataframe\">\n",
       "  <thead>\n",
       "    <tr style=\"text-align: right;\">\n",
       "      <th></th>\n",
       "      <th>Date</th>\n",
       "      <th>Open</th>\n",
       "      <th>High</th>\n",
       "      <th>Low</th>\n",
       "      <th>Close</th>\n",
       "      <th>Change</th>\n",
       "      <th>Traded Volume</th>\n",
       "      <th>Turnover</th>\n",
       "      <th>Last Price of the Day</th>\n",
       "      <th>Daily Traded Units</th>\n",
       "      <th>Daily Turnover</th>\n",
       "    </tr>\n",
       "  </thead>\n",
       "  <tbody>\n",
       "    <tr>\n",
       "      <th>0</th>\n",
       "      <td>2019-07-19</td>\n",
       "      <td>98.00</td>\n",
       "      <td>98.35</td>\n",
       "      <td>96.80</td>\n",
       "      <td>97.5</td>\n",
       "      <td>None</td>\n",
       "      <td>110757.0</td>\n",
       "      <td>10795196.0</td>\n",
       "      <td>None</td>\n",
       "      <td>None</td>\n",
       "      <td>None</td>\n",
       "    </tr>\n",
       "    <tr>\n",
       "      <th>1</th>\n",
       "      <td>2019-07-18</td>\n",
       "      <td>97.05</td>\n",
       "      <td>98.50</td>\n",
       "      <td>96.35</td>\n",
       "      <td>97.9</td>\n",
       "      <td>None</td>\n",
       "      <td>138280.0</td>\n",
       "      <td>13508944.0</td>\n",
       "      <td>None</td>\n",
       "      <td>None</td>\n",
       "      <td>None</td>\n",
       "    </tr>\n",
       "    <tr>\n",
       "      <th>2</th>\n",
       "      <td>2019-07-17</td>\n",
       "      <td>95.30</td>\n",
       "      <td>98.60</td>\n",
       "      <td>94.60</td>\n",
       "      <td>97.3</td>\n",
       "      <td>None</td>\n",
       "      <td>221229.0</td>\n",
       "      <td>21534144.0</td>\n",
       "      <td>None</td>\n",
       "      <td>None</td>\n",
       "      <td>None</td>\n",
       "    </tr>\n",
       "    <tr>\n",
       "      <th>3</th>\n",
       "      <td>2019-07-16</td>\n",
       "      <td>93.00</td>\n",
       "      <td>98.60</td>\n",
       "      <td>92.65</td>\n",
       "      <td>95.3</td>\n",
       "      <td>None</td>\n",
       "      <td>278130.0</td>\n",
       "      <td>26587740.0</td>\n",
       "      <td>None</td>\n",
       "      <td>None</td>\n",
       "      <td>None</td>\n",
       "    </tr>\n",
       "    <tr>\n",
       "      <th>4</th>\n",
       "      <td>2019-07-15</td>\n",
       "      <td>84.80</td>\n",
       "      <td>94.10</td>\n",
       "      <td>84.80</td>\n",
       "      <td>93.6</td>\n",
       "      <td>None</td>\n",
       "      <td>481793.0</td>\n",
       "      <td>43283072.0</td>\n",
       "      <td>None</td>\n",
       "      <td>None</td>\n",
       "      <td>None</td>\n",
       "    </tr>\n",
       "  </tbody>\n",
       "</table>\n",
       "</div>"
      ],
      "text/plain": [
       "         Date   Open   High    Low  Close Change  Traded Volume    Turnover  \\\n",
       "0  2019-07-19  98.00  98.35  96.80   97.5   None       110757.0  10795196.0   \n",
       "1  2019-07-18  97.05  98.50  96.35   97.9   None       138280.0  13508944.0   \n",
       "2  2019-07-17  95.30  98.60  94.60   97.3   None       221229.0  21534144.0   \n",
       "3  2019-07-16  93.00  98.60  92.65   95.3   None       278130.0  26587740.0   \n",
       "4  2019-07-15  84.80  94.10  84.80   93.6   None       481793.0  43283072.0   \n",
       "\n",
       "  Last Price of the Day Daily Traded Units Daily Turnover  \n",
       "0                  None               None           None  \n",
       "1                  None               None           None  \n",
       "2                  None               None           None  \n",
       "3                  None               None           None  \n",
       "4                  None               None           None  "
      ]
     },
     "execution_count": 7,
     "metadata": {},
     "output_type": "execute_result"
    }
   ],
   "source": [
    "# Inspect the JSON structure of the object you created, and take note of how nested it is,\n",
    "# as well as the overall structure\n",
    "\n",
    "url = \"https://www.quandl.com/api/v3/datasets/FSE/AFX_X.json?&start_date=2019-07-01&end_date=2019-07-19&api_key=\" + API_KEY\n",
    "res = requests.get(url)\n",
    "j = res.json()\n",
    "values = j['dataset']['data']\n",
    "headers = j['dataset']['column_names']\n",
    "df = pd.DataFrame(values, columns= headers)\n",
    "df.head()"
   ]
  },
  {
   "cell_type": "markdown",
   "metadata": {},
   "source": [
    "These are your tasks for this mini project:\n",
    "\n",
    "1. Collect data from the Franfurt Stock Exchange, for the ticker AFX_X, for the whole year 2017 (keep in mind that the date format is YYYY-MM-DD).\n",
    "2. Convert the returned JSON object into a Python dictionary.\n",
    "3. Calculate what the highest and lowest opening prices were for the stock in this period.\n",
    "4. What was the largest change in any one day (based on High and Low price)?\n",
    "5. What was the largest change between any two days (based on Closing Price)?\n",
    "6. What was the average daily trading volume during this year?\n",
    "7. (Optional) What was the median trading volume during this year. (Note: you may need to implement your own function for calculating the median.)"
   ]
  },
  {
   "cell_type": "markdown",
   "metadata": {
    "collapsed": true
   },
   "source": [
    "#### 1. Collect data from the Franfurt Stock Exchange, for the ticker AFX_X, for the whole year 2017 (keep in mind that the date format is YYYY-MM-DD)."
   ]
  },
  {
   "cell_type": "code",
   "execution_count": 8,
   "metadata": {},
   "outputs": [
    {
     "name": "stdout",
     "output_type": "stream",
     "text": [
      "https://www.quandl.com/api/v3/datasets/FSE/AFX_X.json?&start_date=2017-01-01&end_date=2017-12-31&api_key=rxKC3fzqYdkKQugsSsMQ\n",
      "200\n",
      "2017-01-01\n",
      "2017-12-31\n"
     ]
    }
   ],
   "source": [
    "# Make the API call\n",
    "url = \"https://www.quandl.com/api/v3/datasets/FSE/AFX_X.json?&start_date=2017-01-01&end_date=2017-12-31&api_key=\" + API_KEY\n",
    "res = requests.get(url)\n",
    "j = res.json()\n",
    "\n",
    "# Confirm the url link, API status and dates to ensure the data was collected correctly\n",
    "print(url)\n",
    "print(res.status_code)\n",
    "print(j['dataset']['start_date'])\n",
    "print(j['dataset']['end_date'])"
   ]
  },
  {
   "cell_type": "markdown",
   "metadata": {},
   "source": [
    "Reference: RFC 2616 - HTTP Status Code Definitions\n",
    "* https://gist.github.com/subfuzion/669dfae1d1a27de83e69\n",
    "* [HTTP/1.1 Status Code Definitions](http://www.w3.org/Protocols/rfc2616/rfc2616-sec10.html)\n",
    "* [Additional HTTP Status Codes](http://tools.ietf.org/html/rfc6585)\n",
    "\n",
    "\n",
    "#### General\n",
    "* 400 BAD REQUEST: The request was invalid or cannot be otherwise served. An accompanying error message will explain further. For security reasons, requests without authentication are considered invalid and will yield this response.\n",
    "* 401 UNAUTHORIZED: The authentication credentials are missing, or if supplied are not valid or not sufficient to access the resource.\n",
    "* 403 FORBIDDEN: The request has been refused. See the accompanying message for the specific reason (most likely for exceeding rate limit).\n",
    "* 404 NOT FOUND: The URI requested is invalid or the resource requested does not exists.\n",
    "* 406 NOT ACCEPTABLE: The request specified an invalid format.\n",
    "* 410 GONE: This resource is gone. Used to indicate that an API endpoint has been turned off.\n",
    "* 429 TOO MANY REQUESTS: Returned when a request cannot be served due to the application’s rate limit having been exhausted for the resource.\n",
    "* 500 INTERNAL SERVER ERROR: Something is horribly wrong.\n",
    "* 502 BAD GATEWAY: The service is down or being upgraded. Try again later.\n",
    "* 503 SERVICE UNAVAILABLE: The service is up, but overloaded with requests. Try again later.\n",
    "* 504 GATEWAY TIMEOUT: Servers are up, but the request couldn’t be serviced due to some failure within our stack. Try again later.\n",
    "\n",
    "#### HTTP GET\n",
    "* 200 OK: The request was successful and the response body contains the representation requested.\n",
    "* 302 FOUND: A common redirect response; you can GET the representation at the URI in the Location response header.\n",
    "* 304 NOT MODIFIED: There is no new data to return.\n",
    "\n",
    "#### HTTP POST or PUT\n",
    "* 201 OK: The request was successful, we updated the resource and the response body contains the representation.\n",
    "* 202 ACCEPTED: The request has been accepted for further processing, which will be completed sometime later.\n",
    "\n",
    "#### HTTP DELETE\n",
    "* 202 ACCEPTED: The request has been accepted for further processing, which will be completed sometime later.\n",
    "* 204 OK: The request was successful; the resource was deleted."
   ]
  },
  {
   "cell_type": "markdown",
   "metadata": {},
   "source": [
    "#### 2. Convert the returned JSON object into a Python dictionary."
   ]
  },
  {
   "cell_type": "code",
   "execution_count": 9,
   "metadata": {},
   "outputs": [
    {
     "data": {
      "text/plain": [
       "requests.models.Response"
      ]
     },
     "execution_count": 9,
     "metadata": {},
     "output_type": "execute_result"
    }
   ],
   "source": [
    "type(res)"
   ]
  },
  {
   "cell_type": "code",
   "execution_count": 10,
   "metadata": {},
   "outputs": [
    {
     "data": {
      "text/plain": [
       "dict"
      ]
     },
     "execution_count": 10,
     "metadata": {},
     "output_type": "execute_result"
    }
   ],
   "source": [
    "res_json = res.json()\n",
    "type(res_json)"
   ]
  },
  {
   "cell_type": "markdown",
   "metadata": {},
   "source": [
    "#### 3. Calculate what the highest and lowest opening prices were for the stock in this period."
   ]
  },
  {
   "cell_type": "code",
   "execution_count": 11,
   "metadata": {},
   "outputs": [],
   "source": [
    "# Create a blank lists to contain dates and opening prices\n",
    "dates = []\n",
    "opening = []\n",
    "for row in res_json['dataset']['data']:\n",
    "    opening.append(row[1])\n",
    "    dates.append(row[0])"
   ]
  },
  {
   "cell_type": "code",
   "execution_count": 12,
   "metadata": {},
   "outputs": [
    {
     "data": {
      "text/plain": [
       "[('2017-12-29', 51.76),\n",
       " ('2017-12-28', 51.65),\n",
       " ('2017-12-27', 51.45),\n",
       " ('2017-12-22', 51.05),\n",
       " ('2017-12-21', 51.16)]"
      ]
     },
     "execution_count": 12,
     "metadata": {},
     "output_type": "execute_result"
    }
   ],
   "source": [
    "# Merge lists in order to combine dates and prices into tuples\n",
    "def merge(list1, list2): \n",
    "    merged_list = tuple(zip(list1, list2))  \n",
    "    return merged_list\n",
    "df = merge(dates,opening)\n",
    "df = list(df)\n",
    "df[:5]"
   ]
  },
  {
   "cell_type": "code",
   "execution_count": 13,
   "metadata": {},
   "outputs": [],
   "source": [
    "# remove none values from opening prices\n",
    "df = [row for row in df if row[1] != None]"
   ]
  },
  {
   "cell_type": "code",
   "execution_count": 14,
   "metadata": {},
   "outputs": [
    {
     "name": "stdout",
     "output_type": "stream",
     "text": [
      "('2017-12-14', 53.11)\n",
      "('2017-01-24', 34.0)\n"
     ]
    }
   ],
   "source": [
    "# print out the highest and lowest opening prices along with their dates\n",
    "print(max(df,key = lambda item:item[1]))\n",
    "print(min(df,key = lambda item:item[1]))"
   ]
  },
  {
   "cell_type": "markdown",
   "metadata": {},
   "source": [
    "#### 4. What was the largest change in any one day (based on High and Low price)?"
   ]
  },
  {
   "cell_type": "code",
   "execution_count": 15,
   "metadata": {},
   "outputs": [],
   "source": [
    "dates = []\n",
    "high = []\n",
    "low = []\n",
    "for row in res_json['dataset']['data']:\n",
    "    high.append(row[2])\n",
    "    low.append(row[3])\n",
    "    dates.append(row[0])"
   ]
  },
  {
   "cell_type": "code",
   "execution_count": 16,
   "metadata": {},
   "outputs": [],
   "source": [
    "# remove tuples containing none values in both high and low prices\n",
    "df2 = zip(dates,high,low)\n",
    "df2 = [row for row in df2 if row[1] != None]\n",
    "df2 = [row for row in df2 if row[2] != None]"
   ]
  },
  {
   "cell_type": "code",
   "execution_count": 17,
   "metadata": {
    "scrolled": true
   },
   "outputs": [],
   "source": [
    "# create a list with the absolute value of high and low along with the date\n",
    "subs = [(x, abs(x1 - x2)) for (x, x1, x2) in df2]"
   ]
  },
  {
   "cell_type": "code",
   "execution_count": 18,
   "metadata": {},
   "outputs": [
    {
     "name": "stdout",
     "output_type": "stream",
     "text": [
      "('2017-05-11', 2.8100000000000023)\n"
     ]
    }
   ],
   "source": [
    "# print out the largest change in one day along with the date of such change\n",
    "print(max(subs,key = lambda item:item[1]))"
   ]
  },
  {
   "cell_type": "markdown",
   "metadata": {},
   "source": [
    "#### 5. What was the largest change between any two days (based on Closing Price)?"
   ]
  },
  {
   "cell_type": "code",
   "execution_count": 19,
   "metadata": {},
   "outputs": [],
   "source": [
    "dates = []\n",
    "closing = []\n",
    "closing_prev = []\n",
    "for row in res_json['dataset']['data']:\n",
    "    closing.append(row[4])\n",
    "    dates.append(row[0])\n",
    "for row in res_json['dataset']['data'][1:]:\n",
    "    closing_prev.append(row[4])"
   ]
  },
  {
   "cell_type": "code",
   "execution_count": 20,
   "metadata": {},
   "outputs": [],
   "source": [
    "# remove tuples containing none values in closing and closing_prev\n",
    "df3 = zip(dates,closing,closing_prev)\n",
    "df3 = [row for row in df3 if row[1] != None]\n",
    "df3 = [row for row in df3 if row[2] != None]"
   ]
  },
  {
   "cell_type": "code",
   "execution_count": 21,
   "metadata": {},
   "outputs": [
    {
     "name": "stdout",
     "output_type": "stream",
     "text": [
      "('2017-08-09', 2.559999999999995)\n"
     ]
    }
   ],
   "source": [
    "subs = [(x,abs(x1 - x2)) for (x, x1, x2) in df3]\n",
    "print(max(subs,key = lambda item:item[1]))"
   ]
  },
  {
   "cell_type": "markdown",
   "metadata": {},
   "source": [
    "#### 6. What was the average daily trading volume during this year?"
   ]
  },
  {
   "cell_type": "code",
   "execution_count": 22,
   "metadata": {},
   "outputs": [
    {
     "name": "stdout",
     "output_type": "stream",
     "text": [
      "The avarage daily trading this year is: 89124.34\n"
     ]
    }
   ],
   "source": [
    "trading_volume = [row[6] for row in res_json['dataset']['data'] if row[6]!= None]\n",
    "trading_avg = sum(trading_volume) / len(trading_volume)\n",
    "\n",
    "print (\"The avarage daily trading this year is: \" + str(round(trading_avg,2)))"
   ]
  },
  {
   "cell_type": "markdown",
   "metadata": {},
   "source": [
    "#### 7. (Optional) What was the median trading volume during this year. (Note: you may need to implement your own function for calculating the median.)"
   ]
  },
  {
   "cell_type": "code",
   "execution_count": 23,
   "metadata": {},
   "outputs": [],
   "source": [
    "def median_func(values):\n",
    "    sort_volume = sorted(values, reverse= False)\n",
    "    length = len(sort_volume)\n",
    "    \n",
    "    # Check if the length is odd or even and return value based on results\n",
    "    if length % 2 == 1:\n",
    "        return sort_volume[length//2]\n",
    "    else:\n",
    "        return sum(sort_volume[length//2-1:length//2+1])/2.0"
   ]
  },
  {
   "cell_type": "code",
   "execution_count": 24,
   "metadata": {},
   "outputs": [
    {
     "name": "stdout",
     "output_type": "stream",
     "text": [
      "76286.0 is the median trading volume during this year\n"
     ]
    }
   ],
   "source": [
    "print(median_func(trading_volume), 'is the median trading volume during this year')"
   ]
  }
 ],
 "metadata": {
  "kernelspec": {
   "display_name": "Python 3",
   "language": "python",
   "name": "python3"
  },
  "language_info": {
   "codemirror_mode": {
    "name": "ipython",
    "version": 3
   },
   "file_extension": ".py",
   "mimetype": "text/x-python",
   "name": "python",
   "nbconvert_exporter": "python",
   "pygments_lexer": "ipython3",
   "version": "3.7.3"
  }
 },
 "nbformat": 4,
 "nbformat_minor": 2
}
