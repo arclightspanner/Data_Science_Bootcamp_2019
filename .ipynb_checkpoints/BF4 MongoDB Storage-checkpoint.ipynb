{
 "cells": [
  {
   "cell_type": "code",
   "execution_count": null,
   "metadata": {},
   "outputs": [],
   "source": [
    "# Import necessary libraries\n",
    "import csv\n",
    "import requests\n",
    "import pandas as pd\n",
    "import json\n",
    "import pprint as pp"
   ]
  },
  {
   "cell_type": "code",
   "execution_count": null,
   "metadata": {},
   "outputs": [],
   "source": [
    "# Obtain all player_ids from webscraped csv file\n",
    "player_id = []\n",
    "\n",
    "with open('players_full_dataset.csv') as csvDataFile:\n",
    "    csvReader = csv.reader(csvDataFile)\n",
    "    for row in csvReader:\n",
    "        player_id.append(row[1])"
   ]
  },
  {
   "cell_type": "code",
   "execution_count": null,
   "metadata": {},
   "outputs": [],
   "source": [
    "# limit player_ids to only 9 entries\n",
    "player_id = player_id[1:10]"
   ]
  },
  {
   "cell_type": "code",
   "execution_count": null,
   "metadata": {},
   "outputs": [],
   "source": [
    "# Connect to mongodb server and assign db value\n",
    "from pymongo import MongoClient\n",
    "client = MongoClient('localhost:27017')\n",
    "db = client.bf4_players"
   ]
  },
  {
   "cell_type": "code",
   "execution_count": null,
   "metadata": {},
   "outputs": [],
   "source": [
    "# do api calls for 9 entries and insert them into the mongodb database\n",
    "for i in range(len(player_id)):\n",
    "    # create an empty dictionary\n",
    "    url_link = \"https://api.bf4stats.com/api/playerInfo?plat=xone&name=\" + player_id[i] + \"&output=json\"\n",
    "    id = player_id[i]\n",
    "    res = requests.get(url_link)\n",
    "    if res.status_code == 200:\n",
    "        j = res.json()\n",
    "        db.bf4_players.insert_one(j)\n",
    "    else:\n",
    "        print(res.status_code)\n",
    "        break"
   ]
  },
  {
   "cell_type": "markdown",
   "metadata": {},
   "source": [
    "#### After inserting the entries, use Compass to look at the database and the tables created\n",
    "![alt text](mongodb.png \"Title\")\n"
   ]
  }
 ],
 "metadata": {
  "kernelspec": {
   "display_name": "Python 3",
   "language": "python",
   "name": "python3"
  },
  "language_info": {
   "codemirror_mode": {
    "name": "ipython",
    "version": 3
   },
   "file_extension": ".py",
   "mimetype": "text/x-python",
   "name": "python",
   "nbconvert_exporter": "python",
   "pygments_lexer": "ipython3",
   "version": "3.7.3"
  }
 },
 "nbformat": 4,
 "nbformat_minor": 2
}
