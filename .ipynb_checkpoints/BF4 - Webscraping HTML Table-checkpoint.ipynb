{
 "cells": [
  {
   "cell_type": "code",
   "execution_count": 11,
   "metadata": {},
   "outputs": [],
   "source": [
    "#import beautifulsoup and urlrequest\n",
    "from bs4 import BeautifulSoup as soup\n",
    "from urllib.request import urlopen as uReq\n",
    "import time"
   ]
  },
  {
   "cell_type": "code",
   "execution_count": 12,
   "metadata": {},
   "outputs": [
    {
     "data": {
      "text/plain": [
       "34"
      ]
     },
     "execution_count": 12,
     "metadata": {},
     "output_type": "execute_result"
    }
   ],
   "source": [
    "#create csv file for data writing\n",
    "filename = \"players.csv\"\n",
    "f = open(filename, \"w\")\n",
    "headers = \"rank, player_id, score, time, spm\\n\"\n",
    "f.write(headers)"
   ]
  },
  {
   "cell_type": "code",
   "execution_count": 13,
   "metadata": {},
   "outputs": [],
   "source": [
    "#create the scraping function for each individual page\n",
    "def scrape_page(page_link):\n",
    "    for entry in page_list[1:]:\n",
    "        tds = entry.find_all('td')\n",
    "        user_rank = tds[0].text\n",
    "        user_name = tds[3].text.strip()\n",
    "        score = tds[4].text\n",
    "        time_hours = tds[5].text\n",
    "        spm = tds[6].text\n",
    "        f.write(user_rank + ',' + user_name + ',' + score.replace(\",\",\"\") + ',' \\\n",
    "            + time_hours.replace(\",\",\"\") + ',' + spm.replace(\",\",\"\") + \"\\n\")"
   ]
  },
  {
   "cell_type": "code",
   "execution_count": 14,
   "metadata": {},
   "outputs": [],
   "source": [
    "# scrape the first page since the first page's url is unique \n",
    "\n",
    "#assign webscraping url\n",
    "my_url = \"https://bf4stats.com/leaderboards/xone_player_score\"\n",
    "\n",
    "#open connection with link\n",
    "uClient = uReq(my_url)\n",
    "\n",
    "#raw html \n",
    "page_html = uClient.read()\n",
    "\n",
    "#close connection with link\n",
    "uClient.close()\n",
    "\n",
    "# html parsing\n",
    "page_soup = soup(page_html,\"html.parser\")\n",
    "\n",
    "#obtain page table entries and scrape out the data\n",
    "page_list = page_soup.find_all('tr')\n",
    "\n",
    "#utilize scrape_page function\n",
    "scrape_page(page_list)\n",
    "\n",
    "# link for remaining pages\n",
    "page_url = \"https://bf4stats.com/leaderboards/xone_player_score?start=\""
   ]
  },
  {
   "cell_type": "code",
   "execution_count": 15,
   "metadata": {
    "scrolled": true
   },
   "outputs": [
    {
     "name": "stdout",
     "output_type": "stream",
     "text": [
      "Wall time: 1min 2s\n"
     ]
    }
   ],
   "source": [
    "%%time\n",
    "# loop through the next 200 pages\n",
    "for i in range(0,200):\n",
    "    page = i * 50\n",
    "    next_page = page_url + str(page)\n",
    "    uClient = uReq(next_page)\n",
    "    page_html = uClient.read()\n",
    "    uClient.close()\n",
    "    page_soup = soup(page_html,\"html.parser\")\n",
    "    page_list = page_soup.find_all('tr')\n",
    "    scrape_page(page_list)\n",
    "    time.sleep(30)"
   ]
  },
  {
   "cell_type": "code",
   "execution_count": 16,
   "metadata": {},
   "outputs": [],
   "source": [
    "f.close()"
   ]
  }
 ],
 "metadata": {
  "kernelspec": {
   "display_name": "Python 3",
   "language": "python",
   "name": "python3"
  },
  "language_info": {
   "codemirror_mode": {
    "name": "ipython",
    "version": 3
   },
   "file_extension": ".py",
   "mimetype": "text/x-python",
   "name": "python",
   "nbconvert_exporter": "python",
   "pygments_lexer": "ipython3",
   "version": "3.7.3"
  }
 },
 "nbformat": 4,
 "nbformat_minor": 2
}
