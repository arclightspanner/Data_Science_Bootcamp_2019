{
 "cells": [
  {
   "cell_type": "code",
   "execution_count": 6,
   "metadata": {},
   "outputs": [],
   "source": [
    "from gcloud import storage\n",
    "import os\n",
    "\n",
    "import csv\n",
    "import requests\n",
    "import pickle\n",
    "import pandas as pd\n",
    "import json\n",
    "from tqdm import tqdm"
   ]
  },
  {
   "cell_type": "code",
   "execution_count": 7,
   "metadata": {},
   "outputs": [],
   "source": [
    "player_id = []\n",
    "\n",
    "with open('C:\\\\Users\\\\alanl\\\\Desktop\\\\players.csv') as csvDataFile:\n",
    "    csvReader = csv.reader(csvDataFile)\n",
    "    for row in csvReader:\n",
    "        player_id.append(row[1])"
   ]
  },
  {
   "cell_type": "code",
   "execution_count": 8,
   "metadata": {
    "scrolled": true
   },
   "outputs": [
    {
     "name": "stdout",
     "output_type": "stream",
     "text": [
      "['GlancingRobin69', 'mondras13', 'TypicalGamehead', 'Stuffie Bunny', 'ProllynotNinja', 'Marlea91', 'snuffymaster20', 'AdrianWaste', 'A4SkinPaperCut', 'TenseRaptor2869']\n"
     ]
    }
   ],
   "source": [
    "player_id = player_id[40641:]\n",
    "print(player_id[:10])"
   ]
  },
  {
   "cell_type": "code",
   "execution_count": 9,
   "metadata": {},
   "outputs": [],
   "source": [
    "os.environ['GOOGLE_APPLICATION_CREDENTIALS'] = 'C:\\\\Users\\\\alanl\\\\Desktop\\\\Data Flow Test-45c6beb1f9c3.json'\n",
    "\n",
    "client = storage.Client()\n",
    "\n",
    "bucket = client.get_bucket('py_spark_ds')"
   ]
  },
  {
   "cell_type": "code",
   "execution_count": null,
   "metadata": {},
   "outputs": [],
   "source": [
    "for i,item in enumerate(tqdm(player_id)):\n",
    "    # create an empty dictionary\n",
    "    url_link = \"https://api.bf4stats.com/api/playerInfo?plat=xone&name=\" + player_id[i] + \"&output=json\"\n",
    "    id = player_id[i]\n",
    "    res = requests.get(url_link)\n",
    "    if res.status_code == 200:\n",
    "        j = res.json()\n",
    "\n",
    "        name_file = player_id[i]\n",
    "        with open('./'+ name_file + '.pkl','wb') as f:\n",
    "            pickle.dump(j,f)\n",
    "        blob = bucket.blob(name_file + '.pkl')\n",
    "        blob.upload_from_filename('./'+ name_file + '.pkl')\n",
    "        os.remove('./'+ name_file + '.pkl')"
   ]
  },
  {
   "cell_type": "code",
   "execution_count": null,
   "metadata": {},
   "outputs": [],
   "source": [
    "import pickle\n",
    "\n",
    "with open('C:\\\\Users\\\\alanl\\\\Desktop\\\\Oculus Mortis.pkl', 'rb') as f:\n",
    "    data = pickle.load(f)"
   ]
  },
  {
   "cell_type": "code",
   "execution_count": null,
   "metadata": {
    "scrolled": true
   },
   "outputs": [],
   "source": [
    "data['stats']"
   ]
  },
  {
   "cell_type": "code",
   "execution_count": null,
   "metadata": {},
   "outputs": [],
   "source": []
  }
 ],
 "metadata": {
  "kernelspec": {
   "display_name": "Python 3",
   "language": "python",
   "name": "python3"
  },
  "language_info": {
   "codemirror_mode": {
    "name": "ipython",
    "version": 3
   },
   "file_extension": ".py",
   "mimetype": "text/x-python",
   "name": "python",
   "nbconvert_exporter": "python",
   "pygments_lexer": "ipython3",
   "version": "3.7.3"
  }
 },
 "nbformat": 4,
 "nbformat_minor": 2
}
