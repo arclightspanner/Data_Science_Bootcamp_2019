{
 "cells": [
  {
   "cell_type": "code",
   "execution_count": 1,
   "metadata": {},
   "outputs": [],
   "source": [
    "from gcloud import storage\n",
    "import os\n",
    "\n",
    "import csv\n",
    "import requests\n",
    "import pickle\n",
    "import pandas as pd\n",
    "import json\n",
    "from tqdm import tqdm"
   ]
  },
  {
   "cell_type": "code",
   "execution_count": 2,
   "metadata": {},
   "outputs": [],
   "source": [
    "player_id = []\n",
    "\n",
    "with open('C:\\\\Users\\\\alanl\\\\Desktop\\\\players.csv') as csvDataFile:\n",
    "    csvReader = csv.reader(csvDataFile)\n",
    "    for row in csvReader:\n",
    "        player_id.append(row[1])"
   ]
  },
  {
   "cell_type": "code",
   "execution_count": 3,
   "metadata": {},
   "outputs": [
    {
     "name": "stdout",
     "output_type": "stream",
     "text": [
      "['Oculus Mortis I', 'adi1936', 'xRubberDuckZ', 'MAGNUM MU5TACHE', 'Divine Yuuko', 'z Devotionn', 'fOOzviking', 'IH8YourFace420', 'AKATH3SCI3NTIST', 'Korpus Draige']\n"
     ]
    }
   ],
   "source": [
    "player_id = player_id[1:200]\n",
    "print(player_id[:10])"
   ]
  },
  {
   "cell_type": "code",
   "execution_count": 4,
   "metadata": {},
   "outputs": [],
   "source": [
    "os.environ['GOOGLE_APPLICATION_CREDENTIALS'] = 'C:\\\\Users\\\\alanl\\\\Desktop\\\\Data Flow Test-45c6beb1f9c3.json'\n",
    "\n",
    "client = storage.Client()\n",
    "\n",
    "bucket = client.get_bucket('py_spark_ds')"
   ]
  },
  {
   "cell_type": "code",
   "execution_count": 5,
   "metadata": {},
   "outputs": [
    {
     "name": "stderr",
     "output_type": "stream",
     "text": [
      "100%|██████████████████████████████████████████████████████████████████████████████████| 50/50 [01:40<00:00,  2.19s/it]\n"
     ]
    }
   ],
   "source": [
    "for i,item in enumerate(tqdm(player_id)):\n",
    "    # create an empty dictionary\n",
    "    url_link = \"https://api.bf4stats.com/api/playerInfo?plat=xone&name=\" + player_id[i] + \"&output=json\"\n",
    "    id = player_id[i]\n",
    "    res = requests.get(url_link)\n",
    "    if res.status_code == 200:\n",
    "        j = res.json()\n",
    "\n",
    "        name_file = player_id[i]\n",
    "        with open('./'+ name_file + '.pkl','wb') as f:\n",
    "            pickle.dump(j,f)\n",
    "        blob = bucket.blob(name_file + '.pkl')\n",
    "        blob.upload_from_filename('./'+ name_file + '.pkl')\n",
    "        os.remove('./'+ name_file + '.pkl')"
   ]
  },
  {
   "cell_type": "code",
   "execution_count": 7,
   "metadata": {},
   "outputs": [],
   "source": [
    "import pickle\n",
    "\n",
    "with open('C:\\\\Users\\\\alanl\\\\Desktop\\\\Oculus Mortis.pkl', 'rb') as f:\n",
    "    data = pickle.load(f)"
   ]
  },
  {
   "cell_type": "code",
   "execution_count": 9,
   "metadata": {},
   "outputs": [
    {
     "data": {
      "text/plain": [
       "{'reset': {'lastReset': 1453430016,\n",
       "  'score': 135136000,\n",
       "  'timePlayed': 11273600,\n",
       "  'timePlayedSinceLastReset': 0,\n",
       "  'kills': 236131,\n",
       "  'deaths': 145525,\n",
       "  'shotsFired': 61046,\n",
       "  'shotsHit': 61046,\n",
       "  'numLosses': 3920,\n",
       "  'numWins': 8544},\n",
       " 'scores': {'score': 417069115,\n",
       "  'award': 97739904,\n",
       "  'bonus': 12470900,\n",
       "  'unlock': 241950,\n",
       "  'vehicle': 18888800,\n",
       "  'team': 5127010,\n",
       "  'objective': 0,\n",
       "  'squad': 58095600,\n",
       "  'general': 112407000,\n",
       "  'totalScore': 417069115,\n",
       "  'rankScore': 32160000,\n",
       "  'combatScore': 319047532},\n",
       " 'skill': 665,\n",
       " 'elo': 0,\n",
       " 'rank': 140,\n",
       " 'timePlayed': 26767800,\n",
       " 'kills': 600129,\n",
       " 'deaths': 286343,\n",
       " 'headshots': 91843,\n",
       " 'shotsFired': 18760300,\n",
       " 'shotsHit': 2210970,\n",
       " 'suppressionAssists': 15846,\n",
       " 'avengerKills': 62211,\n",
       " 'saviorKills': 29346,\n",
       " 'nemesisKills': 9968,\n",
       " 'numRounds': 25131,\n",
       " 'numLosses': 5997,\n",
       " 'numWins': 17222,\n",
       " 'killStreakBonus': 70,\n",
       " 'nemesisStreak': 14,\n",
       " 'mcomDefendKills': 767,\n",
       " 'resupplies': 172173,\n",
       " 'repairs': 8363,\n",
       " 'heals': 13933,\n",
       " 'revives': 680,\n",
       " 'longestHeadshot': 1232.55,\n",
       " 'longestWinStreak': 0,\n",
       " 'flagDefend': 69814,\n",
       " 'flagCaptures': 54955,\n",
       " 'killAssists': 29007,\n",
       " 'vehiclesDestroyed': 27210,\n",
       " 'vehicleDamage': 27043,\n",
       " 'dogtagsTaken': 3699,\n",
       " 'streak': 1,\n",
       " 'bestStreak': 31,\n",
       " 'modes': [{'id': 1, 'score': 113311000, 'name': 'Conquest'},\n",
       "  {'id': 2, 'score': 15922400, 'name': 'Rush'},\n",
       "  {'id': 8, 'score': 333250, 'name': 'Deathmatch'},\n",
       "  {'id': 1024, 'score': 4855, 'name': 'Domination'},\n",
       "  {'id': 524288, 'score': 60337, 'name': 'Capture the Flag'},\n",
       "  {'id': 2097152, 'score': 83813, 'name': 'Obliteration'},\n",
       "  {'id': 8388608, 'score': 48995, 'name': 'Air Superiority'},\n",
       "  {'id': 16777216, 'score': 4500, 'name': 'Defuse'},\n",
       "  {'id': 67108864, 'score': 67663, 'name': 'Carrier Assault Large'},\n",
       "  {'id': 134217728, 'score': 67663, 'name': 'Carrier Assault'},\n",
       "  {'id': 34359738368, 'score': 62820, 'name': 'Chain Link'}],\n",
       " 'kits': {'assault': {'id': 1,\n",
       "   'score': 18467400,\n",
       "   'time': 945952,\n",
       "   'stars': 119,\n",
       "   'spm': 1171.3533033388587,\n",
       "   'name': 'Assault'},\n",
       "  'engineer': {'id': 2,\n",
       "   'score': 14193700,\n",
       "   'time': 768102,\n",
       "   'stars': 108,\n",
       "   'spm': 1108.7355585586288,\n",
       "   'name': 'Engineer'},\n",
       "  'support': {'id': 32,\n",
       "   'score': 254068992,\n",
       "   'time': 10252200,\n",
       "   'stars': 1896,\n",
       "   'spm': 1486.9139813893603,\n",
       "   'name': 'Support'},\n",
       "  'recon': {'id': 8,\n",
       "   'score': 13190800,\n",
       "   'time': 1796910,\n",
       "   'stars': 126,\n",
       "   'spm': 440.44943820224717,\n",
       "   'name': 'Recon'},\n",
       "  'commander': {'id': 2048,\n",
       "   'score': 237840,\n",
       "   'time': 34166,\n",
       "   'stars': 11,\n",
       "   'spm': 417.67839372475567,\n",
       "   'name': 'Commander'}},\n",
       " 'extra': {'kdr': 2.095839604949309,\n",
       "  'wlr': 2.8717692179423047,\n",
       "  'spm': 934.8600520027794,\n",
       "  'gspm': 251.96019097572457,\n",
       "  'kpm': 1.3451886221504943,\n",
       "  'sfpm': 42.05119583977764,\n",
       "  'hkp': 15.303876333255017,\n",
       "  'khp': 27.143244820146812,\n",
       "  'accuracy': 11.78536590566249,\n",
       "  'roundsFinished': 23219,\n",
       "  'vehicleTime': 2113679,\n",
       "  'vehicleKills': 38648,\n",
       "  'weaponTime': 13619141,\n",
       "  'weaponKills': 553638,\n",
       "  'unknownKills': 7843,\n",
       "  'weaTimeP': 50.878820822032445,\n",
       "  'weaKillsP': 92.25316556940257,\n",
       "  'weaKpm': 2.4390877515696476,\n",
       "  'vehTimeP': 7.896349345108675,\n",
       "  'vehKillsP': 6.439948744353298,\n",
       "  'vehKpm': 1.097082385735961,\n",
       "  'ribbons': 267521,\n",
       "  'ribbonsTotal': 54,\n",
       "  'ribbonsUnique': 54,\n",
       "  'medals': 1735,\n",
       "  'medalsTotal': 54,\n",
       "  'medalsUnique': 41,\n",
       "  'assignments': 102,\n",
       "  'assignmentsTotal': 108,\n",
       "  'ribpr': 11.521641758904346}}"
      ]
     },
     "execution_count": 9,
     "metadata": {},
     "output_type": "execute_result"
    }
   ],
   "source": [
    "data['stats']"
   ]
  }
 ],
 "metadata": {
  "kernelspec": {
   "display_name": "Python 3",
   "language": "python",
   "name": "python3"
  },
  "language_info": {
   "codemirror_mode": {
    "name": "ipython",
    "version": 3
   },
   "file_extension": ".py",
   "mimetype": "text/x-python",
   "name": "python",
   "nbconvert_exporter": "python",
   "pygments_lexer": "ipython3",
   "version": "3.7.3"
  }
 },
 "nbformat": 4,
 "nbformat_minor": 2
}
