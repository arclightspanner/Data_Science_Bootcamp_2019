{
 "cells": [
  {
   "cell_type": "code",
   "execution_count": 19,
   "metadata": {},
   "outputs": [],
   "source": [
    "import numpy\n",
    "import pandas as pd\n",
    "import cloudstorage as gcs\n",
    "import pickle\n",
    "from pandas.io.json import json_normalize\n",
    "import time\n",
    "import os\n",
    "from gcloud import storage\n",
    "from tqdm import tqdm"
   ]
  },
  {
   "cell_type": "code",
   "execution_count": 20,
   "metadata": {},
   "outputs": [],
   "source": [
    "\"\"\"\n",
    "GCP SDK command lines to check contents, requires SDK and coreutils\n",
    "\n",
    "gcloud init       #initiate automatic gcloud connection \n",
    "gsutil du -s gs://py_spark_ds        #simple count bytes within entire bucket\n",
    "gsutil ls -lR gs://py_spark_ds | tail -n 1      #summary of total objects and size in entire bucket\n",
    "gsutil du gs://py_spark_ds > MyTextOutput.txt    #output all file names and sizes to a txt file\n",
    "\n",
    "# TOTAL: 40501 objects, 39366312918 bytes (36.66 GiB)\n",
    "\n",
    "\"\"\"\n",
    "os.environ['GOOGLE_APPLICATION_CREDENTIALS'] = 'C:\\\\Users\\\\alanl\\\\Desktop\\\\Data Flow Test-45c6beb1f9c3.json'\n",
    "\n",
    "client = storage.Client()\n",
    "\n",
    "bucket = client.get_bucket('py_spark_ds')\n",
    "\n",
    "blobs = bucket.list_blobs()"
   ]
  },
  {
   "cell_type": "code",
   "execution_count": 21,
   "metadata": {
    "scrolled": true
   },
   "outputs": [],
   "source": [
    "# read output file with fixed width\n",
    "user_list = pd.read_fwf('output_list.txt', header = None) "
   ]
  },
  {
   "cell_type": "code",
   "execution_count": 22,
   "metadata": {
    "scrolled": true
   },
   "outputs": [
    {
     "data": {
      "text/plain": [
       "40501"
      ]
     },
     "execution_count": 22,
     "metadata": {},
     "output_type": "execute_result"
    }
   ],
   "source": [
    "# extract all user names and put it in a list called list1\n",
    "list1=[]\n",
    "for i in user_list[1]:\n",
    "    list1.append(i.strip(\"gs://py_spark_ds/\"))\n",
    "len(list1)"
   ]
  },
  {
   "cell_type": "code",
   "execution_count": 38,
   "metadata": {
    "scrolled": true
   },
   "outputs": [
    {
     "data": {
      "text/plain": [
       "31862"
      ]
     },
     "execution_count": 38,
     "metadata": {},
     "output_type": "execute_result"
    }
   ],
   "source": [
    "22513+1951+7390+8"
   ]
  },
  {
   "cell_type": "code",
   "execution_count": 39,
   "metadata": {},
   "outputs": [],
   "source": [
    "list3 = list1[31862:]"
   ]
  },
  {
   "cell_type": "code",
   "execution_count": 40,
   "metadata": {
    "scrolled": true
   },
   "outputs": [
    {
     "data": {
      "text/plain": [
       "8639"
      ]
     },
     "execution_count": 40,
     "metadata": {},
     "output_type": "execute_result"
    }
   ],
   "source": [
    "len(list3)"
   ]
  },
  {
   "cell_type": "code",
   "execution_count": 49,
   "metadata": {},
   "outputs": [
    {
     "data": {
      "text/plain": [
       "'zzzkrak GFYzzz.pkl'"
      ]
     },
     "execution_count": 49,
     "metadata": {},
     "output_type": "execute_result"
    }
   ],
   "source": [
    "list3[-1]"
   ]
  },
  {
   "cell_type": "code",
   "execution_count": 42,
   "metadata": {},
   "outputs": [],
   "source": [
    "def json_norm(player_list,feature):\n",
    "    \"\"\"\n",
    "    takes the final list containing dictionary and returns parsed json\n",
    "    :param final_list:\n",
    "    :param player_name:\n",
    "    :return: pandas data frame\n",
    "    \"\"\"\n",
    "    df = player_list[feature]\n",
    "    df = json_normalize(df)\n",
    "    df.index = df.name\n",
    "    df = df.drop(['name'],axis=1)\n",
    "    df_series = df.stack()\n",
    "    df_normalized = df_series.to_frame().T\n",
    "    df_normalized.columns = ['_'.join(col).strip() for col in df_normalized.columns.values]\n",
    "    \n",
    "    return df_normalized"
   ]
  },
  {
   "cell_type": "code",
   "execution_count": 43,
   "metadata": {},
   "outputs": [],
   "source": [
    "def convert_int(dataframe):\n",
    "    \"\"\"\n",
    "    convert objects to int\n",
    "    :param dataframe: \n",
    "    :return: \n",
    "    \"\"\"\n",
    "    for col in dataframe.columns:\n",
    "        try:\n",
    "            dataframe[col] = dataframe[col].fillna('999.99')\n",
    "            dataframe[col] = dataframe[col].astype(int)\n",
    "        except:\n",
    "            continue\n",
    "    return dataframe.loc[:,dataframe.dtypes==int]"
   ]
  },
  {
   "cell_type": "code",
   "execution_count": 44,
   "metadata": {},
   "outputs": [],
   "source": [
    "def fill_missing(dataframe):\n",
    "    for col in dataframe.columns:\n",
    "        dataframe[col] = dataframe[col].fillna(999.99)\n",
    "    return dataframe"
   ]
  },
  {
   "cell_type": "code",
   "execution_count": 46,
   "metadata": {},
   "outputs": [
    {
     "name": "stderr",
     "output_type": "stream",
     "text": [
      " 68%|████████████████████████████▋             | 5913/8639 [1:37:25<31:19,  1.45it/s]\n"
     ]
    }
   ],
   "source": [
    "player_info = pd.DataFrame([])\n",
    "success_count = pd.DataFrame([])\n",
    "with tqdm(total=8639) as pbar:\n",
    "    for file in list3:\n",
    "        s = bucket.get_blob(file)\n",
    "        try:\n",
    "            with open(\"./tmp.pkl\", \"wb\") as file_obj:\n",
    "                s.download_to_file(file_obj)\n",
    "        except:\n",
    "            continue\n",
    "            \n",
    "        try:\n",
    "            with open(\"./tmp.pkl\",\"rb\") as file_obj:\n",
    "                tmp = pickle.load(file_obj)\n",
    "        except:\n",
    "            continue\n",
    "\n",
    "        weaponCategory = json_norm(tmp,'weaponCategory')\n",
    "        players = pd.DataFrame([{keys:values for keys,values in tmp['player'].items() if keys in ['name']}])\n",
    "        stats = json_normalize([{keys:values for (keys,values) in tmp['stats'].items() if keys not in ['modes']}])\n",
    "\n",
    "        #clean up vehicleCategory to include in dataframe\n",
    "        vehicleCategory = tmp['vehicleCategory']\n",
    "        vehicleCategory = json_normalize(vehicleCategory)\n",
    "        vehicleCategory= vehicleCategory[['extra.kpm','extra.spm','name','stat.destroys','stat.kills','stat.score','stat.time']]\n",
    "        vehicleCategory.index = vehicleCategory.name\n",
    "        vehicleCategory = vehicleCategory.drop(['name'],axis=1)\n",
    "        vehicleCategory_series = vehicleCategory.stack()\n",
    "        vehicleCategory_normalized = vehicleCategory_series.to_frame().T\n",
    "        vehicleCategory_normalized.columns = ['_'.join(col).strip() for col in vehicleCategory_normalized.columns.values]    \n",
    "\n",
    "        vehicleCategory = vehicleCategory_normalized\n",
    "\n",
    "\n",
    "        # clean up modes to include in dataframe\n",
    "        modes = tmp['stats']['modes']\n",
    "        modes = json_normalize(modes)\n",
    "        modes = modes.drop(['id'], axis=1)\n",
    "        modes.index = modes.name\n",
    "        modes = modes.drop(['name'],axis=1)\n",
    "        modes_series = modes.stack()\n",
    "        modes_normalized = modes_series.to_frame().T\n",
    "        modes_normalized.columns = ['_'.join(col).strip() for col in modes_normalized.columns.values]\n",
    "\n",
    "        modes = modes_normalized\n",
    "\n",
    "\n",
    "        os.remove(\"./tmp.pkl\") \n",
    "\n",
    "        stats = convert_int(stats)\n",
    "        modes = convert_int(modes)\n",
    "        weaponCategory = convert_int(weaponCategory)\n",
    "        vehicleCategory = convert_int(vehicleCategory)\n",
    "\n",
    "        stats = fill_missing(stats)\n",
    "        modes = fill_missing(modes)\n",
    "        weaponCategory = fill_missing(weaponCategory)\n",
    "        vehicleCategory = fill_missing(vehicleCategory)\n",
    "\n",
    "\n",
    "        s = pd.concat([players,stats,modes, weaponCategory, vehicleCategory],axis=1,sort = False)\n",
    "        try:\n",
    "            player_info = player_info.append(s,ignore_index=True)\n",
    "            sd = pd.DataFrame({\"player\":s['name'],\"status\":\"success\"})\n",
    "            success_count = success_count.append(sd,ignore_index = True)\n",
    "\n",
    "        except Exception as e:\n",
    "            sde = pd.DataFrame({\"player\":s['name'],\"status\":\"failure\"})\n",
    "            success_count = success_count.append(sde,ignore_index = True)\n",
    "            continue\n",
    "        pbar.update(1)"
   ]
  },
  {
   "cell_type": "code",
   "execution_count": 47,
   "metadata": {
    "scrolled": true
   },
   "outputs": [
    {
     "data": {
      "text/html": [
       "<div>\n",
       "<style scoped>\n",
       "    .dataframe tbody tr th:only-of-type {\n",
       "        vertical-align: middle;\n",
       "    }\n",
       "\n",
       "    .dataframe tbody tr th {\n",
       "        vertical-align: top;\n",
       "    }\n",
       "\n",
       "    .dataframe thead th {\n",
       "        text-align: right;\n",
       "    }\n",
       "</style>\n",
       "<table border=\"1\" class=\"dataframe\">\n",
       "  <thead>\n",
       "    <tr style=\"text-align: right;\">\n",
       "      <th></th>\n",
       "      <th>player</th>\n",
       "      <th>status</th>\n",
       "    </tr>\n",
       "  </thead>\n",
       "  <tbody>\n",
       "    <tr>\n",
       "      <th>5908</th>\n",
       "      <td>zzRaphaelDz</td>\n",
       "      <td>success</td>\n",
       "    </tr>\n",
       "    <tr>\n",
       "      <th>5909</th>\n",
       "      <td>zzola01</td>\n",
       "      <td>success</td>\n",
       "    </tr>\n",
       "    <tr>\n",
       "      <th>5910</th>\n",
       "      <td>zztoc</td>\n",
       "      <td>success</td>\n",
       "    </tr>\n",
       "    <tr>\n",
       "      <th>5911</th>\n",
       "      <td>zzvw</td>\n",
       "      <td>success</td>\n",
       "    </tr>\n",
       "    <tr>\n",
       "      <th>5912</th>\n",
       "      <td>zzzkrak GFYzzz</td>\n",
       "      <td>success</td>\n",
       "    </tr>\n",
       "  </tbody>\n",
       "</table>\n",
       "</div>"
      ],
      "text/plain": [
       "              player   status\n",
       "5908     zzRaphaelDz  success\n",
       "5909         zzola01  success\n",
       "5910           zztoc  success\n",
       "5911            zzvw  success\n",
       "5912  zzzkrak GFYzzz  success"
      ]
     },
     "execution_count": 47,
     "metadata": {},
     "output_type": "execute_result"
    }
   ],
   "source": [
    "success_count.tail()"
   ]
  },
  {
   "cell_type": "code",
   "execution_count": 48,
   "metadata": {
    "scrolled": true
   },
   "outputs": [
    {
     "data": {
      "text/html": [
       "<div>\n",
       "<style scoped>\n",
       "    .dataframe tbody tr th:only-of-type {\n",
       "        vertical-align: middle;\n",
       "    }\n",
       "\n",
       "    .dataframe tbody tr th {\n",
       "        vertical-align: top;\n",
       "    }\n",
       "\n",
       "    .dataframe thead th {\n",
       "        text-align: right;\n",
       "    }\n",
       "</style>\n",
       "<table border=\"1\" class=\"dataframe\">\n",
       "  <thead>\n",
       "    <tr style=\"text-align: right;\">\n",
       "      <th></th>\n",
       "      <th>name</th>\n",
       "      <th>avengerKills</th>\n",
       "      <th>bestStreak</th>\n",
       "      <th>deaths</th>\n",
       "      <th>dogtagsTaken</th>\n",
       "      <th>elo</th>\n",
       "      <th>extra.accuracy</th>\n",
       "      <th>extra.assignments</th>\n",
       "      <th>extra.assignmentsTotal</th>\n",
       "      <th>extra.gspm</th>\n",
       "      <th>...</th>\n",
       "      <th>AA 9K22 Tunguska_extra.spm</th>\n",
       "      <th>AA 9K22 Tunguska_stat.destroys</th>\n",
       "      <th>AA 9K22 Tunguska_stat.kills</th>\n",
       "      <th>AA 9K22 Tunguska_stat.time</th>\n",
       "      <th>AA LAV-AD_extra.kpm</th>\n",
       "      <th>AA LAV-AD_extra.spm</th>\n",
       "      <th>AA LAV-AD_stat.destroys</th>\n",
       "      <th>AA LAV-AD_stat.kills</th>\n",
       "      <th>AA LAV-AD_stat.score</th>\n",
       "      <th>AA LAV-AD_stat.time</th>\n",
       "    </tr>\n",
       "  </thead>\n",
       "  <tbody>\n",
       "    <tr>\n",
       "      <th>5908</th>\n",
       "      <td>zzRaphaelDz</td>\n",
       "      <td>23</td>\n",
       "      <td>1</td>\n",
       "      <td>239</td>\n",
       "      <td>2</td>\n",
       "      <td>0</td>\n",
       "      <td>9</td>\n",
       "      <td>0</td>\n",
       "      <td>108</td>\n",
       "      <td>107</td>\n",
       "      <td>...</td>\n",
       "      <td>0</td>\n",
       "      <td>0</td>\n",
       "      <td>0</td>\n",
       "      <td>0</td>\n",
       "      <td>0</td>\n",
       "      <td>0</td>\n",
       "      <td>0</td>\n",
       "      <td>0</td>\n",
       "      <td>0</td>\n",
       "      <td>0</td>\n",
       "    </tr>\n",
       "    <tr>\n",
       "      <th>5909</th>\n",
       "      <td>zzola01</td>\n",
       "      <td>1715</td>\n",
       "      <td>1</td>\n",
       "      <td>4985</td>\n",
       "      <td>243</td>\n",
       "      <td>0</td>\n",
       "      <td>15</td>\n",
       "      <td>37</td>\n",
       "      <td>108</td>\n",
       "      <td>306</td>\n",
       "      <td>...</td>\n",
       "      <td>0</td>\n",
       "      <td>0</td>\n",
       "      <td>0</td>\n",
       "      <td>0</td>\n",
       "      <td>0</td>\n",
       "      <td>0</td>\n",
       "      <td>0</td>\n",
       "      <td>0</td>\n",
       "      <td>3007</td>\n",
       "      <td>0</td>\n",
       "    </tr>\n",
       "    <tr>\n",
       "      <th>5910</th>\n",
       "      <td>zztoc</td>\n",
       "      <td>196</td>\n",
       "      <td>1</td>\n",
       "      <td>2088</td>\n",
       "      <td>23</td>\n",
       "      <td>0</td>\n",
       "      <td>11</td>\n",
       "      <td>10</td>\n",
       "      <td>108</td>\n",
       "      <td>112</td>\n",
       "      <td>...</td>\n",
       "      <td>0</td>\n",
       "      <td>0</td>\n",
       "      <td>0</td>\n",
       "      <td>0</td>\n",
       "      <td>0</td>\n",
       "      <td>0</td>\n",
       "      <td>0</td>\n",
       "      <td>0</td>\n",
       "      <td>12104</td>\n",
       "      <td>0</td>\n",
       "    </tr>\n",
       "    <tr>\n",
       "      <th>5911</th>\n",
       "      <td>zzvw</td>\n",
       "      <td>236</td>\n",
       "      <td>1</td>\n",
       "      <td>2368</td>\n",
       "      <td>54</td>\n",
       "      <td>0</td>\n",
       "      <td>16</td>\n",
       "      <td>12</td>\n",
       "      <td>108</td>\n",
       "      <td>161</td>\n",
       "      <td>...</td>\n",
       "      <td>0</td>\n",
       "      <td>0</td>\n",
       "      <td>0</td>\n",
       "      <td>0</td>\n",
       "      <td>0</td>\n",
       "      <td>0</td>\n",
       "      <td>0</td>\n",
       "      <td>0</td>\n",
       "      <td>15828</td>\n",
       "      <td>0</td>\n",
       "    </tr>\n",
       "    <tr>\n",
       "      <th>5912</th>\n",
       "      <td>zzzkrak GFYzzz</td>\n",
       "      <td>1063</td>\n",
       "      <td>0</td>\n",
       "      <td>11440</td>\n",
       "      <td>132</td>\n",
       "      <td>0</td>\n",
       "      <td>7</td>\n",
       "      <td>25</td>\n",
       "      <td>108</td>\n",
       "      <td>115</td>\n",
       "      <td>...</td>\n",
       "      <td>0</td>\n",
       "      <td>0</td>\n",
       "      <td>0</td>\n",
       "      <td>0</td>\n",
       "      <td>0</td>\n",
       "      <td>0</td>\n",
       "      <td>0</td>\n",
       "      <td>0</td>\n",
       "      <td>22879</td>\n",
       "      <td>0</td>\n",
       "    </tr>\n",
       "  </tbody>\n",
       "</table>\n",
       "<p>5 rows × 394 columns</p>\n",
       "</div>"
      ],
      "text/plain": [
       "                name  avengerKills  bestStreak  deaths  dogtagsTaken  elo  \\\n",
       "5908     zzRaphaelDz            23           1     239             2    0   \n",
       "5909         zzola01          1715           1    4985           243    0   \n",
       "5910           zztoc           196           1    2088            23    0   \n",
       "5911            zzvw           236           1    2368            54    0   \n",
       "5912  zzzkrak GFYzzz          1063           0   11440           132    0   \n",
       "\n",
       "      extra.accuracy  extra.assignments  extra.assignmentsTotal  extra.gspm  \\\n",
       "5908               9                  0                     108         107   \n",
       "5909              15                 37                     108         306   \n",
       "5910              11                 10                     108         112   \n",
       "5911              16                 12                     108         161   \n",
       "5912               7                 25                     108         115   \n",
       "\n",
       "      ...  AA 9K22 Tunguska_extra.spm  AA 9K22 Tunguska_stat.destroys  \\\n",
       "5908  ...                           0                               0   \n",
       "5909  ...                           0                               0   \n",
       "5910  ...                           0                               0   \n",
       "5911  ...                           0                               0   \n",
       "5912  ...                           0                               0   \n",
       "\n",
       "      AA 9K22 Tunguska_stat.kills  AA 9K22 Tunguska_stat.time  \\\n",
       "5908                            0                           0   \n",
       "5909                            0                           0   \n",
       "5910                            0                           0   \n",
       "5911                            0                           0   \n",
       "5912                            0                           0   \n",
       "\n",
       "      AA LAV-AD_extra.kpm  AA LAV-AD_extra.spm  AA LAV-AD_stat.destroys  \\\n",
       "5908                    0                    0                        0   \n",
       "5909                    0                    0                        0   \n",
       "5910                    0                    0                        0   \n",
       "5911                    0                    0                        0   \n",
       "5912                    0                    0                        0   \n",
       "\n",
       "      AA LAV-AD_stat.kills  AA LAV-AD_stat.score  AA LAV-AD_stat.time  \n",
       "5908                     0                     0                    0  \n",
       "5909                     0                  3007                    0  \n",
       "5910                     0                 12104                    0  \n",
       "5911                     0                 15828                    0  \n",
       "5912                     0                 22879                    0  \n",
       "\n",
       "[5 rows x 394 columns]"
      ]
     },
     "execution_count": 48,
     "metadata": {},
     "output_type": "execute_result"
    }
   ],
   "source": [
    "player_info.tail()"
   ]
  },
  {
   "cell_type": "code",
   "execution_count": 50,
   "metadata": {},
   "outputs": [],
   "source": [
    "player_info.to_csv('player_info_part5.csv')\n",
    "success_count.to_csv('success_count_part5.csv')"
   ]
  }
 ],
 "metadata": {
  "kernelspec": {
   "display_name": "Python 3",
   "language": "python",
   "name": "python3"
  },
  "language_info": {
   "codemirror_mode": {
    "name": "ipython",
    "version": 3
   },
   "file_extension": ".py",
   "mimetype": "text/x-python",
   "name": "python",
   "nbconvert_exporter": "python",
   "pygments_lexer": "ipython3",
   "version": "3.6.8"
  }
 },
 "nbformat": 4,
 "nbformat_minor": 2
}
