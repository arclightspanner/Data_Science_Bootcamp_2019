{
 "cells": [
  {
   "cell_type": "code",
   "execution_count": 49,
   "metadata": {},
   "outputs": [],
   "source": [
    "import pprint as pp"
   ]
  },
  {
   "cell_type": "code",
   "execution_count": 44,
   "metadata": {},
   "outputs": [],
   "source": [
    "\"\"\"\n",
    "Install pymongo in order to interact with local MongoDB database\n",
    "Local MongoDB needs to be setup by running program mongod\n",
    "\n",
    "\"\"\"\n",
    "def add_city(db):\n",
    "    db.cities.insert_one({\"name\" : \"New York\"})\n",
    "    db.cities.insert_one({\"name\" : \"Salt Lake City\"})\n",
    "\n",
    "def get_db():\n",
    "    # For local use\n",
    "    from pymongo import MongoClient\n",
    "    client = MongoClient('localhost:27017')\n",
    "    # 'examples' here is the database name. It will be created if it does not exist.\n",
    "    db = client.examples\n",
    "    return db"
   ]
  },
  {
   "cell_type": "code",
   "execution_count": 45,
   "metadata": {},
   "outputs": [],
   "source": [
    "# Class????\n",
    "if __name__ == \"__main__\":\n",
    "    # For local use\n",
    "    db = get_db()\n",
    "    add_city(db)"
   ]
  },
  {
   "cell_type": "code",
   "execution_count": 53,
   "metadata": {
    "scrolled": true
   },
   "outputs": [
    {
     "name": "stdout",
     "output_type": "stream",
     "text": [
      "{'_id': ObjectId('5d3cc35f1da9278da9d1fd33'), 'name': 'Baltimore'}\n",
      "{'_id': ObjectId('5d3cc35f1da9278da9d1fd35'), 'name': 'Boston'}\n",
      "{'_id': ObjectId('5d3cc85b1da9278da9d1fd38'), 'name': 'Salt Lake City'}\n"
     ]
    }
   ],
   "source": [
    "# Print out all entries\n",
    "for i in db.cities.find():\n",
    "  print(i)"
   ]
  },
  {
   "cell_type": "code",
   "execution_count": 52,
   "metadata": {},
   "outputs": [
    {
     "name": "stdout",
     "output_type": "stream",
     "text": [
      "{'_id': ObjectId('5d3cc35f1da9278da9d1fd33'), 'name': 'Baltimore'}\n",
      "{'_id': ObjectId('5d3cc35f1da9278da9d1fd35'), 'name': 'Boston'}\n"
     ]
    }
   ],
   "source": [
    "# Print out the top 2 entries\n",
    "myresult = db.cities.find().limit(2)\n",
    "\n",
    "#print the result:\n",
    "for i in myresult:\n",
    "  pp.pprint(i)"
   ]
  },
  {
   "cell_type": "code",
   "execution_count": 51,
   "metadata": {},
   "outputs": [
    {
     "data": {
      "text/plain": [
       "<pymongo.results.DeleteResult at 0x52bbfd0>"
      ]
     },
     "execution_count": 51,
     "metadata": {},
     "output_type": "execute_result"
    }
   ],
   "source": [
    "# Delete entries from MongoDB\n",
    "myquery = { \"name\": \"New York\" }\n",
    "db.cities.delete_one(myquery)"
   ]
  },
  {
   "cell_type": "code",
   "execution_count": 29,
   "metadata": {},
   "outputs": [],
   "source": [
    "# Delete entire column and delete entire database\n",
    "mycol = db[\"cities\"]\n",
    "mydb = db['examples']\n",
    "mycol.drop()\n",
    "mydb.drop()"
   ]
  },
  {
   "cell_type": "code",
   "execution_count": null,
   "metadata": {},
   "outputs": [],
   "source": [
    "\"\"\"\n",
    "Other useful functions\n",
    "\n",
    "1. sort(\"name\", 1) #ascending\n",
    "sort(\"name\", -1) #descending\n",
    "\n",
    "mydoc = mycol.find().sort(\"name\", -1)\n",
    "\n",
    "for x in mydoc:\n",
    "  print(x)\n",
    "\n",
    "2. myquery = { \"address\": { \"$gt\": \"S\" } }\n",
    "\n",
    "mydoc = mycol.find(myquery)\n",
    "\n",
    "for x in mydoc:\n",
    "  print(x)\n",
    "\n",
    "E.g. to find the documents where the \"address\" field starts with the letter \"S\" or \n",
    "higher (alphabetically), use the greater than modifier: {\"$gt\": \"S\"}:\n",
    "\n",
    "3. myquery = { \"address\": { \"$regex\": \"^S\" } }\n",
    "\n",
    "mydoc = mycol.find(myquery)\n",
    "\n",
    "for x in mydoc:\n",
    "  print(x)\n",
    "\n",
    "To find only the documents where the \"address\" field starts with the letter \"S\", \n",
    "use the regular expression {\"$regex\": \"^S\"}:\n",
    "\n",
    "\"\"\""
   ]
  },
  {
   "cell_type": "code",
   "execution_count": null,
   "metadata": {},
   "outputs": [],
   "source": [
    "\"\"\"\n",
    "def find():\n",
    "    query = {\"manufacturer\": \"Toyota\", \"class\": \"mid-size\"}\n",
    "    projection = {\"_id\": 0, \"name\": 1}\n",
    "    autos = db.autos.find(query, projection)\n",
    "    \n",
    "    for a in autos:\n",
    "        pp.pprint(a)\n",
    "\n",
    "if __name__ == '__main__':\n",
    "     find()\n",
    "\"\"\""
   ]
  }
 ],
 "metadata": {
  "kernelspec": {
   "display_name": "Python 3",
   "language": "python",
   "name": "python3"
  },
  "language_info": {
   "codemirror_mode": {
    "name": "ipython",
    "version": 3
   },
   "file_extension": ".py",
   "mimetype": "text/x-python",
   "name": "python",
   "nbconvert_exporter": "python",
   "pygments_lexer": "ipython3",
   "version": "3.7.3"
  }
 },
 "nbformat": 4,
 "nbformat_minor": 2
}
