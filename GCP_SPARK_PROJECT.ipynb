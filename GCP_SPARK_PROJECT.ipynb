{
 "cells": [
  {
   "cell_type": "code",
   "execution_count": null,
   "metadata": {
    "scrolled": true
   },
   "outputs": [],
   "source": [
    "# test spark to see if it is running correctly\n",
    "import findspark\n",
    "findspark.init('spark')\n",
    "import pyspark\n",
    "import random\n",
    "sc = pyspark.SparkContext(appName=\"Pi\")\n",
    "num_samples = 100000000\n",
    "def inside(p):     \n",
    "  x, y = random.random(), random.random()\n",
    "  return x*x + y*y < 1\n",
    "count = sc.parallelize(range(0, num_samples)).filter(inside).count()\n",
    "pi = 4 * count / num_samples\n",
    "print(pi)\n",
    "sc.stop()"
   ]
  },
  {
   "cell_type": "code",
   "execution_count": 1,
   "metadata": {},
   "outputs": [],
   "source": [
    "# import basic libraries\n",
    "import pandas as pd\n",
    "import seaborn as sns\n",
    "import matplotlib.pyplot as plt\n",
    "import numpy as np"
   ]
  },
  {
   "cell_type": "code",
   "execution_count": 2,
   "metadata": {},
   "outputs": [],
   "source": [
    "# initiate SparkContext -- step 1\n",
    "# The first step in using Spark is connecting to a cluster.\n",
    "# The master is connected to the rest of the computers in the cluster, which are called worker. \n",
    "# The master sends the workers data and calculations to run, and they send their results back to the master.\n",
    "import findspark\n",
    "findspark.init('spark')\n",
    "import pyspark\n",
    "import random\n",
    "sc = pyspark.SparkContext(appName=\"player_data\")"
   ]
  },
  {
   "cell_type": "code",
   "execution_count": 3,
   "metadata": {
    "scrolled": true
   },
   "outputs": [
    {
     "name": "stdout",
     "output_type": "stream",
     "text": [
      "<SparkContext master=local[*] appName=player_data>\n",
      "2.4.3\n"
     ]
    }
   ],
   "source": [
    "# verify sparkcontext and version\n",
    "print(sc)\n",
    "print(sc.version)"
   ]
  },
  {
   "cell_type": "code",
   "execution_count": 4,
   "metadata": {},
   "outputs": [
    {
     "name": "stdout",
     "output_type": "stream",
     "text": [
      "<pyspark.sql.session.SparkSession object at 0x7fd46bb94240>\n"
     ]
    }
   ],
   "source": [
    "# Spark's core data structure is the Resilient Distributed Dataset (RDD). \n",
    "# This is a low level object that lets Spark work its magic by splitting data across multiple nodes in the cluster. \n",
    "# However, RDDs are hard to work with directly, so you'll be using the Spark DataFrame abstraction built on top of RDDs.\n",
    "# To start working with Spark DataFrames, you first have to create a SparkSession object from your SparkContext. \n",
    "# You can think of the SparkContext as your connection to the cluster and the SparkSession as your interface with that connection.\n",
    "\n",
    "from pyspark.sql import SparkSession\n",
    "my_spark = SparkSession.builder.getOrCreate()\n",
    "print(my_spark)"
   ]
  },
  {
   "cell_type": "code",
   "execution_count": 5,
   "metadata": {},
   "outputs": [],
   "source": [
    "import gcsfs\n",
    "fs = gcsfs.GCSFileSystem(project='data-flow-test-248722')\n",
    "fs.ls('py_spark_ds')\n",
    "with fs.open('py_spark_ds/player_info.csv') as f:\n",
    "    pd_temp = pd.read_csv(f)"
   ]
  },
  {
   "cell_type": "code",
   "execution_count": 6,
   "metadata": {},
   "outputs": [],
   "source": [
    "s_df = my_spark.createDataFrame(pd_temp)"
   ]
  },
  {
   "cell_type": "code",
   "execution_count": 7,
   "metadata": {},
   "outputs": [
    {
     "data": {
      "text/plain": [
       "pyspark.sql.dataframe.DataFrame"
      ]
     },
     "execution_count": 7,
     "metadata": {},
     "output_type": "execute_result"
    }
   ],
   "source": [
    "type(s_df)"
   ]
  },
  {
   "cell_type": "code",
   "execution_count": 8,
   "metadata": {},
   "outputs": [],
   "source": [
    "for col in s_df.columns:\n",
    "  s_df = s_df.withColumnRenamed(col,col.replace(\".\", \"_\"))"
   ]
  },
  {
   "cell_type": "code",
   "execution_count": 9,
   "metadata": {},
   "outputs": [],
   "source": [
    "for col in s_df.columns:\n",
    "  s_df = s_df.withColumnRenamed(col,col.replace(\" \", \"_\"))"
   ]
  },
  {
   "cell_type": "code",
   "execution_count": 10,
   "metadata": {},
   "outputs": [],
   "source": [
    "for col in s_df.columns:\n",
    "  s_df = s_df.withColumnRenamed(col,col.replace(\"-\", \"_\"))"
   ]
  },
  {
   "cell_type": "code",
   "execution_count": 11,
   "metadata": {},
   "outputs": [],
   "source": [
    "s_df.createOrReplaceTempView(\"players\")"
   ]
  },
  {
   "cell_type": "code",
   "execution_count": 12,
   "metadata": {
    "scrolled": true
   },
   "outputs": [
    {
     "name": "stdout",
     "output_type": "stream",
     "text": [
      "[Table(name='players', database=None, description=None, tableType='TEMPORARY', isTemporary=True)]\n"
     ]
    }
   ],
   "source": [
    "print(my_spark.catalog.listTables())"
   ]
  },
  {
   "cell_type": "code",
   "execution_count": 13,
   "metadata": {},
   "outputs": [],
   "source": [
    "# Don't change this query\n",
    "query = \"FROM players SELECT * LIMIT 2\""
   ]
  },
  {
   "cell_type": "code",
   "execution_count": 14,
   "metadata": {},
   "outputs": [
    {
     "name": "stdout",
     "output_type": "stream",
     "text": [
      "+----------+---------------+------------+----------+------+------------+---+--------------+-----------------+----------------------+----------+---------+---------+---------+---------+------------+-----------------+------------------+-------------+------------------+-------------------+-----------+--------------------+----------+---------+------------------+---------------+------------+--------------+------------------+-----------------+---------------+------------+--------------+-----------------+----------------+---------+------------+----------+---------+------+-----------+---------------+------+---------------+------------------+----------------+------------------+-----------------+-----------------+--------------------+------------------+--------------------+-------------------+----------------+-------------------+-----------------+-------------------+------------------+-------------+----------------+--------------+----------------+---------------+---------------+------------------+----------------+------------------+-----------------+---------------+----------------+---------------+------------+-------------+---------+---------+-------+----+-------+------------+-----------+---------------+---------------+-------------+-----------+----------------+--------------+----------------+------------------------------+----------+-------+-----------+------------+------------+------------------+--------------+----------------+----------------+------------+------------+-----------+-----------------+-------------+--------------+----------+--------+-----+------+------------------+----------+-------------+-----------------+--------------+----------+----------------+----------------+----------------------+------------------+---------------------+------------+---------------------------+---------------------+----------------+---------------------+----------------+----------------+-----------------+----------------+----------------+--------------+-----------------+-----------------+----------------+---------------------------+----------------------+----------------------+-----------------------+----------------------+----------------------+--------------------+-----------------------+-----------------------+-----------------------+----------------------+------------------+-------------+-------------+--------------+-------------+-------------+-----------+--------------+--------------+--------------+-------------+----------------------+-----------------+-----------------+------------------+-----------------+-----------------+---------------+------------------+------------------+------------------+-----------------+----------------------------+-----------------------+-----------------------+------------------------+-----------------------+-----------------------+---------------------+------------------------+------------------------+-----------------------+------------------+-------------+-------------+--------------+-------------+-------------+-----------+--------------+--------------+--------------+-------------+----------------------+-----------------+-----------------+------------------+-----------------+-----------------+---------------+------------------+------------------+------------------+-----------------+------------------+-------------+-------------+--------------+-------------+-------------+-----------+--------------+--------------+--------------+-------------+----------------------------+-----------------------+-----------------------+------------------------+-----------------------+-----------------------+---------------------+------------------------+------------------------+------------------------+-----------------------+--------------------+---------------+---------------+----------------+---------------+---------------+-------------+----------------+----------------+---------------+----------------------+-----------------+-----------------+------------------+-----------------+-----------------+---------------+------------------+------------------+------------------+-----------------+----------------------+-----------------+-----------------+------------------+-----------------+-----------------+---------------+------------------+------------------+------------------+-----------------+-----------------------------------+-----------------------------------+---------------------------------------+------------------------------------+-----------------------------------+------------------+------------------+----------------------+-------------------+------------------+-------------------------+-------------------------+-----------------------------+--------------------------+-------------------------+-------------------+-------------------+-----------------------+--------------------+-------------------+-------------------------+-------------------------+-----------------------------+--------------------------+--------------------------+-------------------------+----------------------------------+----------------------------------+--------------------------------------+-----------------------------------+-----------------------------------+----------------------------------+------------------------+------------------------+----------------------------+-------------------------+-------------------------+------------------------+----------------------------+----------------------------+--------------------------------+-----------------------------+----------------------------+----------------+----------------+--------------------+-----------------+----------------+----------------------------------+----------------------------------+--------------------------------------+-----------------------------------+----------------------------------+--------------+--------------+------------------+---------------+--------------+-------------+-------------+-----------------+--------------+-------------+------------------------------+------------------------------+----------------------------------+-------------------------------+------------------------------+---------------------------+---------------------------+-------------------------------+----------------------------+----------------------------+---------------------------+------------------------------+------------------------------+----------------------------------+-------------------------------+------------------------------+-----------------+-----------------+---------------------+------------------+-----------------+-------------------------------+-------------------------------+-----------------------------------+--------------------------------+--------------------------------+-------------------------------+--------------------------+--------------------------+------------------------------+---------------------------+--------------------------+-------------------------------+-------------------------------+-----------------------------------+--------------------------------+-------------------------------+--------------------------+--------------------------+------------------------------+---------------------------+--------------------------+---------------------------+---------------------------+-------------------------------+----------------------------+----------------------------+---------------------------+-------------------+-------------------+-----------------------+--------------------+-------------------+-----------------------+-----------------------+---------------------------+------------------------+-----------------------+--------------------+--------------------+------------------------+---------------------+--------------------+--------------------+--------------------+------------------------+---------------------+---------------------+--------------------+--------------------------+--------------------------+------------------------------+---------------------------+--------------------------+-------------------+-------------------+-----------------------+--------------------+--------------------+-------------------+\n",
      "|Unnamed:_0|           name|avengerKills|bestStreak|deaths|dogtagsTaken|elo|extra_accuracy|extra_assignments|extra_assignmentsTotal|extra_gspm|extra_hkp|extra_kdr|extra_khp|extra_kpm|extra_medals|extra_medalsTotal|extra_medalsUnique|extra_ribbons|extra_ribbonsTotal|extra_ribbonsUnique|extra_ribpr|extra_roundsFinished|extra_sfpm|extra_spm|extra_unknownKills|extra_vehKillsP|extra_vehKpm|extra_vehTimeP|extra_vehicleKills|extra_vehicleTime|extra_weaKillsP|extra_weaKpm|extra_weaTimeP|extra_weaponKills|extra_weaponTime|extra_wlr|flagCaptures|flagDefend|headshots| heals|killAssists|killStreakBonus| kills|kits_assault_id|kits_assault_score|kits_assault_spm|kits_assault_stars|kits_assault_time|kits_commander_id|kits_commander_score|kits_commander_spm|kits_commander_stars|kits_commander_time|kits_engineer_id|kits_engineer_score|kits_engineer_spm|kits_engineer_stars|kits_engineer_time|kits_recon_id|kits_recon_score|kits_recon_spm|kits_recon_stars|kits_recon_time|kits_support_id|kits_support_score|kits_support_spm|kits_support_stars|kits_support_time|longestHeadshot|longestWinStreak|mcomDefendKills|nemesisKills|nemesisStreak|numLosses|numRounds|numWins|rank|repairs|reset_deaths|reset_kills|reset_lastReset|reset_numLosses|reset_numWins|reset_score|reset_shotsFired|reset_shotsHit|reset_timePlayed|reset_timePlayedSinceLastReset|resupplies|revives|saviorKills|scores_award|scores_bonus|scores_combatScore|scores_general|scores_objective|scores_rankScore|scores_score|scores_squad|scores_team|scores_totalScore|scores_unlock|scores_vehicle|shotsFired|shotsHit|skill|streak|suppressionAssists|timePlayed|vehicleDamage|vehiclesDestroyed|Conquest_score|Rush_score|Deathmatch_score|Domination_score|Capture_the_Flag_score|Obliteration_score|Air_Superiority_score|Defuse_score|Carrier_Assault_Large_score|Carrier_Assault_score|Chain_Link_score|GADGET_extra_accuracy|GADGET_extra_hkp|GADGET_extra_kpm|GADGET_extra_sfpm|GADGET_extra_spm|GADGET_stat_hits|GADGET_stat_hs|GADGET_stat_kills|GADGET_stat_shots|GADGET_stat_time|SNIPER_RIFLE_extra_accuracy|SNIPER_RIFLE_extra_hkp|SNIPER_RIFLE_extra_kpm|SNIPER_RIFLE_extra_sfpm|SNIPER_RIFLE_extra_spm|SNIPER_RIFLE_stat_hits|SNIPER_RIFLE_stat_hs|SNIPER_RIFLE_stat_kills|SNIPER_RIFLE_stat_score|SNIPER_RIFLE_stat_shots|SNIPER_RIFLE_stat_time|PDW_extra_accuracy|PDW_extra_hkp|PDW_extra_kpm|PDW_extra_sfpm|PDW_extra_spm|PDW_stat_hits|PDW_stat_hs|PDW_stat_kills|PDW_stat_score|PDW_stat_shots|PDW_stat_time|CARBINE_extra_accuracy|CARBINE_extra_hkp|CARBINE_extra_kpm|CARBINE_extra_sfpm|CARBINE_extra_spm|CARBINE_stat_hits|CARBINE_stat_hs|CARBINE_stat_kills|CARBINE_stat_score|CARBINE_stat_shots|CARBINE_stat_time|BATTLE_PICKUP_extra_accuracy|BATTLE_PICKUP_extra_hkp|BATTLE_PICKUP_extra_kpm|BATTLE_PICKUP_extra_sfpm|BATTLE_PICKUP_extra_spm|BATTLE_PICKUP_stat_hits|BATTLE_PICKUP_stat_hs|BATTLE_PICKUP_stat_kills|BATTLE_PICKUP_stat_shots|BATTLE_PICKUP_stat_time|LMG_extra_accuracy|LMG_extra_hkp|LMG_extra_kpm|LMG_extra_sfpm|LMG_extra_spm|LMG_stat_hits|LMG_stat_hs|LMG_stat_kills|LMG_stat_score|LMG_stat_shots|LMG_stat_time|GRENADE_extra_accuracy|GRENADE_extra_hkp|GRENADE_extra_kpm|GRENADE_extra_sfpm|GRENADE_extra_spm|GRENADE_stat_hits|GRENADE_stat_hs|GRENADE_stat_kills|GRENADE_stat_score|GRENADE_stat_shots|GRENADE_stat_time|DMR_extra_accuracy|DMR_extra_hkp|DMR_extra_kpm|DMR_extra_sfpm|DMR_extra_spm|DMR_stat_hits|DMR_stat_hs|DMR_stat_kills|DMR_stat_score|DMR_stat_shots|DMR_stat_time|ASSAULT_RIFLE_extra_accuracy|ASSAULT_RIFLE_extra_hkp|ASSAULT_RIFLE_extra_kpm|ASSAULT_RIFLE_extra_sfpm|ASSAULT_RIFLE_extra_spm|ASSAULT_RIFLE_stat_hits|ASSAULT_RIFLE_stat_hs|ASSAULT_RIFLE_stat_kills|ASSAULT_RIFLE_stat_score|ASSAULT_RIFLE_stat_shots|ASSAULT_RIFLE_stat_time|KNIFE_extra_accuracy|KNIFE_extra_hkp|KNIFE_extra_kpm|KNIFE_extra_sfpm|KNIFE_extra_spm|KNIFE_stat_hits|KNIFE_stat_hs|KNIFE_stat_kills|KNIFE_stat_shots|KNIFE_stat_time|SHOTGUN_extra_accuracy|SHOTGUN_extra_hkp|SHOTGUN_extra_kpm|SHOTGUN_extra_sfpm|SHOTGUN_extra_spm|SHOTGUN_stat_hits|SHOTGUN_stat_hs|SHOTGUN_stat_kills|SHOTGUN_stat_score|SHOTGUN_stat_shots|SHOTGUN_stat_time|SIDEARM_extra_accuracy|SIDEARM_extra_hkp|SIDEARM_extra_kpm|SIDEARM_extra_sfpm|SIDEARM_extra_spm|SIDEARM_stat_hits|SIDEARM_stat_hs|SIDEARM_stat_kills|SIDEARM_stat_score|SIDEARM_stat_shots|SIDEARM_stat_time|Infantry_Fighting_Vehicle_extra_kpm|Infantry_Fighting_Vehicle_extra_spm|Infantry_Fighting_Vehicle_stat_destroys|Infantry_Fighting_Vehicle_stat_kills|Infantry_Fighting_Vehicle_stat_time|Anti_Air_extra_kpm|Anti_Air_extra_spm|Anti_Air_stat_destroys|Anti_Air_stat_kills|Anti_Air_stat_time|Transport_KA_60_extra_kpm|Transport_KA_60_extra_spm|Transport_KA_60_stat_destroys|Transport_KA_60_stat_kills|Transport_KA_60_stat_time|Transport_extra_kpm|Transport_extra_spm|Transport_stat_destroys|Transport_stat_kills|Transport_stat_time|Air_Jet_Stealth_extra_kpm|Air_Jet_Stealth_extra_spm|Air_Jet_Stealth_stat_destroys|Air_Jet_Stealth_stat_kills|Air_Jet_Stealth_stat_score|Air_Jet_Stealth_stat_time|Air_Helicopter_Scout_AH6_extra_kpm|Air_Helicopter_Scout_AH6_extra_spm|Air_Helicopter_Scout_AH6_stat_destroys|Air_Helicopter_Scout_AH6_stat_kills|Air_Helicopter_Scout_AH6_stat_score|Air_Helicopter_Scout_AH6_stat_time|Air_Jet_Attack_extra_kpm|Air_Jet_Attack_extra_spm|Air_Jet_Attack_stat_destroys|Air_Jet_Attack_stat_kills|Air_Jet_Attack_stat_score|Air_Jet_Attack_stat_time|Weapon_Stationary__extra_kpm|Weapon_Stationary__extra_spm|Weapon_Stationary__stat_destroys|Weapon_Stationary__stat_kills|Weapon_Stationary__stat_time|HIMARS_extra_kpm|HIMARS_extra_spm|HIMARS_stat_destroys|HIMARS_stat_kills|HIMARS_stat_time|Air_Helicopter_Scout_z11_extra_kpm|Air_Helicopter_Scout_z11_extra_spm|Air_Helicopter_Scout_z11_stat_destroys|Air_Helicopter_Scout_z11_stat_kills|Air_Helicopter_Scout_z11_stat_time|Boat_extra_kpm|Boat_extra_spm|Boat_stat_destroys|Boat_stat_kills|Boat_stat_time|Air_extra_kpm|Air_extra_spm|Air_stat_destroys|Air_stat_kills|Air_stat_time|Weapon_Stationary_AA_extra_kpm|Weapon_Stationary_AA_extra_spm|Weapon_Stationary_AA_stat_destroys|Weapon_Stationary_AA_stat_kills|Weapon_Stationary_AA_stat_time|Main_Battle_Tanks_extra_kpm|Main_Battle_Tanks_extra_spm|Main_Battle_Tanks_stat_destroys|Main_Battle_Tanks_stat_kills|Main_Battle_Tanks_stat_score|Main_Battle_Tanks_stat_time|Air_Helicopter_Scout_extra_kpm|Air_Helicopter_Scout_extra_spm|Air_Helicopter_Scout_stat_destroys|Air_Helicopter_Scout_stat_kills|Air_Helicopter_Scout_stat_time|MBT_T90_extra_kpm|MBT_T90_extra_spm|MBT_T90_stat_destroys|MBT_T90_stat_kills|MBT_T90_stat_time|Air_Helicopter_Attack_extra_kpm|Air_Helicopter_Attack_extra_spm|Air_Helicopter_Attack_stat_destroys|Air_Helicopter_Attack_stat_kills|Air_Helicopter_Attack_stat_score|Air_Helicopter_Attack_stat_time|Mobile_Artillery_extra_kpm|Mobile_Artillery_extra_spm|Mobile_Artillery_stat_destroys|Mobile_Artillery_stat_kills|Mobile_Artillery_stat_time|Transport_UH_1Y_Venom_extra_kpm|Transport_UH_1Y_Venom_extra_spm|Transport_UH_1Y_Venom_stat_destroys|Transport_UH_1Y_Venom_stat_kills|Transport_UH_1Y_Venom_stat_time|Soldier_Equiment_extra_kpm|Soldier_Equiment_extra_spm|Soldier_Equiment_stat_destroys|Soldier_Equiment_stat_kills|Soldier_Equiment_stat_time|Fast_Attack_Craft_extra_kpm|Fast_Attack_Craft_extra_spm|Fast_Attack_Craft_stat_destroys|Fast_Attack_Craft_stat_kills|Fast_Attack_Craft_stat_score|Fast_Attack_Craft_stat_time|Jeep_SPM3_extra_kpm|Jeep_SPM3_extra_spm|Jeep_SPM3_stat_destroys|Jeep_SPM3_stat_kills|Jeep_SPM3_stat_time|MBT_M1_Abrams_extra_kpm|MBT_M1_Abrams_extra_spm|MBT_M1_Abrams_stat_destroys|MBT_M1_Abrams_stat_kills|MBT_M1_Abrams_stat_time|IFV_LAV_25_extra_kpm|IFV_LAV_25_extra_spm|IFV_LAV_25_stat_destroys|IFV_LAV_25_stat_kills|IFV_LAV_25_stat_time|IFV_BTR_90_extra_kpm|IFV_BTR_90_extra_spm|IFV_BTR_90_stat_destroys|IFV_BTR_90_stat_kills|IFV_BTR_90_stat_score|IFV_BTR_90_stat_time|AA_9K22_Tunguska_extra_kpm|AA_9K22_Tunguska_extra_spm|AA_9K22_Tunguska_stat_destroys|AA_9K22_Tunguska_stat_kills|AA_9K22_Tunguska_stat_time|AA_LAV_AD_extra_kpm|AA_LAV_AD_extra_spm|AA_LAV_AD_stat_destroys|AA_LAV_AD_stat_kills|AA_LAV_AD_stat_score|AA_LAV_AD_stat_time|\n",
      "+----------+---------------+------------+----------+------+------------+---+--------------+-----------------+----------------------+----------+---------+---------+---------+---------+------------+-----------------+------------------+-------------+------------------+-------------------+-----------+--------------------+----------+---------+------------------+---------------+------------+--------------+------------------+-----------------+---------------+------------+--------------+-----------------+----------------+---------+------------+----------+---------+------+-----------+---------------+------+---------------+------------------+----------------+------------------+-----------------+-----------------+--------------------+------------------+--------------------+-------------------+----------------+-------------------+-----------------+-------------------+------------------+-------------+----------------+--------------+----------------+---------------+---------------+------------------+----------------+------------------+-----------------+---------------+----------------+---------------+------------+-------------+---------+---------+-------+----+-------+------------+-----------+---------------+---------------+-------------+-----------+----------------+--------------+----------------+------------------------------+----------+-------+-----------+------------+------------+------------------+--------------+----------------+----------------+------------+------------+-----------+-----------------+-------------+--------------+----------+--------+-----+------+------------------+----------+-------------+-----------------+--------------+----------+----------------+----------------+----------------------+------------------+---------------------+------------+---------------------------+---------------------+----------------+---------------------+----------------+----------------+-----------------+----------------+----------------+--------------+-----------------+-----------------+----------------+---------------------------+----------------------+----------------------+-----------------------+----------------------+----------------------+--------------------+-----------------------+-----------------------+-----------------------+----------------------+------------------+-------------+-------------+--------------+-------------+-------------+-----------+--------------+--------------+--------------+-------------+----------------------+-----------------+-----------------+------------------+-----------------+-----------------+---------------+------------------+------------------+------------------+-----------------+----------------------------+-----------------------+-----------------------+------------------------+-----------------------+-----------------------+---------------------+------------------------+------------------------+-----------------------+------------------+-------------+-------------+--------------+-------------+-------------+-----------+--------------+--------------+--------------+-------------+----------------------+-----------------+-----------------+------------------+-----------------+-----------------+---------------+------------------+------------------+------------------+-----------------+------------------+-------------+-------------+--------------+-------------+-------------+-----------+--------------+--------------+--------------+-------------+----------------------------+-----------------------+-----------------------+------------------------+-----------------------+-----------------------+---------------------+------------------------+------------------------+------------------------+-----------------------+--------------------+---------------+---------------+----------------+---------------+---------------+-------------+----------------+----------------+---------------+----------------------+-----------------+-----------------+------------------+-----------------+-----------------+---------------+------------------+------------------+------------------+-----------------+----------------------+-----------------+-----------------+------------------+-----------------+-----------------+---------------+------------------+------------------+------------------+-----------------+-----------------------------------+-----------------------------------+---------------------------------------+------------------------------------+-----------------------------------+------------------+------------------+----------------------+-------------------+------------------+-------------------------+-------------------------+-----------------------------+--------------------------+-------------------------+-------------------+-------------------+-----------------------+--------------------+-------------------+-------------------------+-------------------------+-----------------------------+--------------------------+--------------------------+-------------------------+----------------------------------+----------------------------------+--------------------------------------+-----------------------------------+-----------------------------------+----------------------------------+------------------------+------------------------+----------------------------+-------------------------+-------------------------+------------------------+----------------------------+----------------------------+--------------------------------+-----------------------------+----------------------------+----------------+----------------+--------------------+-----------------+----------------+----------------------------------+----------------------------------+--------------------------------------+-----------------------------------+----------------------------------+--------------+--------------+------------------+---------------+--------------+-------------+-------------+-----------------+--------------+-------------+------------------------------+------------------------------+----------------------------------+-------------------------------+------------------------------+---------------------------+---------------------------+-------------------------------+----------------------------+----------------------------+---------------------------+------------------------------+------------------------------+----------------------------------+-------------------------------+------------------------------+-----------------+-----------------+---------------------+------------------+-----------------+-------------------------------+-------------------------------+-----------------------------------+--------------------------------+--------------------------------+-------------------------------+--------------------------+--------------------------+------------------------------+---------------------------+--------------------------+-------------------------------+-------------------------------+-----------------------------------+--------------------------------+-------------------------------+--------------------------+--------------------------+------------------------------+---------------------------+--------------------------+---------------------------+---------------------------+-------------------------------+----------------------------+----------------------------+---------------------------+-------------------+-------------------+-----------------------+--------------------+-------------------+-----------------------+-----------------------+---------------------------+------------------------+-----------------------+--------------------+--------------------+------------------------+---------------------+--------------------+--------------------+--------------------+------------------------+---------------------+---------------------+--------------------+--------------------------+--------------------------+------------------------------+---------------------------+--------------------------+-------------------+-------------------+-----------------------+--------------------+--------------------+-------------------+\n",
      "|         0|AKATH3SCI3NTIST|       41635|        11|246916|        3484|  0|            13|               98|                   108|       255|       13|        1|       15|        1|        2154|               54|                38|       230944|                54|                 54|         13|               17142|        61|      828|              2406|             20|           1|            22|            100590|          4981645|             78|           2|            43|           386308|         9508325|        2|       48796|     75782|    67352|103449|      41323|            128|489304|              1|          79084704|            1171|               510|          4051470|             2048|              191176|               368|                   9|              31090|               2|           41283900|              924|                315|           2679070|            8|        11279000|           648|             108|        1044100|             32|          32915000|            1019|               245|          1936310|            754|               0|             16|        6004|           15|     4476|    20104|  12666| 140|  15204|           0|          0|              0|              0|            0|          0|               0|             0|               0|                             0|     42456|  21190|      45366|    84006096|     7785220|         220645280|      94231504|               0|        32160000|   304906254|    19465900|    7329720|        304906254|       249000|      55891500|  22484400| 3096750|  505|     2|             29853|  22091200|        48875|            44846|      89484400|   1169720|           48550|          357603|                  1500|             29963|                12793|        1000|                      48875|                48875|           21500|                   46|               0|               1|               39|               0|          317465|            35|            30474|           676957|         1030929|                         40|                    43|                     0|                      4|                   159|                 23886|                4980|                  11557|                1919880|                  59106|                720034|                16|           18|            2|            75|          343|       215052|       6865|         36736|       5772720|       1276856|      1008929|                    18|               18|                1|                60|              262|           277457|           8771|             47606|           6651140|           1532673|          1519661|                          46|                      7|                      1|                       9|                      0|                   7668|                  205|                    2915|                   16611|                 107484|                11|           20|            3|           167|          456|       518376|      16700|         81218|      12089400|       4430436|      1588165|                    61|                0|               10|                77|             1639|            98283|              0|             21686|           3364800|            158909|           123104|                24|           16|            1|            26|          269|        20820|        962|          5793|        864895|         86325|       192534|                          18|                     18|                      2|                      81|                    394|                 716195|                23646|                  125314|                18460900|                 3821156|                2804979|                   0|              0|              0|               0|              0|              0|            0|            3389|               0|              0|                    92|                6|                3|                14|              519|            29315|            457|              6608|           1130920|             31591|           130738|                    21|               16|                2|                55|              410|            56402|           2084|             12957|           1917900|            257666|           280172|                                  1|                                  0|                                   2896|                               12187|                             574662|                 1|                 0|                  2838|               6067|            313564|                        0|                        0|                            1|                         1|                      410|                  0|                  0|                    126|                 874|             274795|                        0|                      323|                         1788|                      1502|                   1325240|                   246106|                                 0|                                 0|                                     0|                                  0|                            5647520|                                 0|                       0|                     296|                         572|                      759|                   611368|                  123888|                           1|                           0|                              35|                          244|                       13172|               1|               0|                   2|                8|             334|                                 0|                                 0|                                     0|                                  0|                                 0|             0|             0|                76|            303|         37478|            0|            0|               40|           119|         8631|                             0|                             0|                                 2|                              4|                             0|                          0|                        653|                           3952|                       12934|                     8447150|                     776126|                             1|                             0|                              4536|                          10922|                        576074|                1|                0|                    5|                33|             1871|                              2|                            913|                               7009|                           30540|                        13096700|                         859982|                         0|                         0|                           143|                        362|                     24876|                              0|                              0|                                  0|                               0|                            437|                         0|                         0|                           245|                        249|                         0|                          1|                       1676|                           4299|                       11742|                    16049100|                     574210|                  0|                  0|                      0|                   0|                188|                      0|                      0|                          0|                       0|                      6|                   1|                   0|                       3|                   21|                 773|                   1|              201464|                       2|                   52|              7131830|                2124|                         0|                         0|                             0|                          0|                         0|                  0|                  0|                      0|                   0|             3582630|                  0|\n",
      "|         1|   Adversity 64|       33602|         3|182750|        1393|  0|            19|               85|                   108|       227|       10|        2|       14|        1|        2014|               54|                36|       202270|                54|                 50|         13|               15484|        45|      737|              -383|             31|           1|            27|            138787|          5689790|             68|           2|            38|           295934|         7936540|        1|       47305|     62553|    44700|110426|      19455|            105|434338|              1|          60056200|             952|               387|          3782090|             2048|               68800|               280|                   3|              14703|               2|           21638800|              731|                165|           1774500|            8|        31159700|           830|             299|        2251920|             32|           4346660|             769|                32|           338966|            620|               0|             24|        6004|           12|     5263|    18391|  10221| 140|  37404|           0|          0|              0|              0|            0|          0|               0|             0|               0|                             0|      8143|  25164|      16758|    68029904|     6439550|         186250464|      78556304|               0|        32160000|   254489321|    23456200|    3267830|        254489321|       201050|      68980304|  15556300| 3022010|  471|     0|              6521|  20693000|        48327|            51139|      72513904|    255695|          123500|          333288|                 10150|              1075|                13657|       16500|                      13570|                13570|            7420|                   48|               0|               1|              140|               0|          837239|            52|            17490|          1734501|          739116|                         40|                    13|                     1|                      4|                   217|                  6456|                 726|                   5401|                 759403|                  16011|                209478|                16|           15|            1|            31|          185|        67069|       2814|         18142|       2443020|        417662|       790944|                    16|               15|                2|                54|              324|           348613|          14636|             95619|          12479400|           2102609|          2308530|                          35|                      2|                      1|                       9|                      0|                   1826|                   26|                     923|                    5215|                  33338|                10|           17|            2|            86|          339|        30736|       1507|          8860|       1185610|        302503|       209339|                    70|                0|                6|                68|              836|            23086|              0|              3099|            402494|             32961|            28859|                20|           14|            1|            20|          255|        13875|        869|          6017|        858798|         68997|       201929|                          15|                     15|                      2|                      52|                    320|                 431657|                18586|                  120522|                16468200|                 2701173|                3079735|                   0|              0|              0|               0|              0|              0|            0|            1391|               0|              0|                    54|                5|                2|                10|              346|            10914|            240|              4475|            648753|             19920|           112221|                    17|               12|                3|                68|              493|            45640|           1771|             13984|           1833410|            253574|           222733|                                  1|                                  0|                                   7516|                               39925|                            1285131|                 2|                 0|                   411|               2037|             59937|                        0|                        0|                            0|                         0|                      317|                  0|                  0|                    147|                 950|             237093|                        0|                      398|                         2065|                      2210|                   1382720|                   208231|                                 0|                                 0|                                     0|                                  0|                           10199000|                                 0|                       1|                     531|                        6463|                     8972|                  4666600|                  527291|                           0|                           0|                             217|                          490|                       40879|               1|               0|                   1|                3|             178|                                 0|                                 0|                                     0|                                  0|                                 0|             0|             0|                40|            269|         44649|            0|            0|               14|            36|         3074|                             0|                             0|                                 2|                              2|                             0|                          1|                        861|                           9638|                       35556|                    19139300|                    1333654|                             1|                             0|                              7021|                          23991|                        876613|                2|                0|                   56|               339|             8831|                              1|                            723|                               6152|                           17719|                        10111100|                         839001|                         1|                         0|                           120|                        374|                     19804|                              0|                              0|                                  1|                               1|                            607|                         0|                         0|                            25|                        283|                         0|                          1|                       1995|                            469|                        1957|                     2553230|                      76784|                  0|                  0|                      1|                   4|                426|                      2|                      0|                         42|                     244|                   6905|                   2|                   0|                      69|                  497|               13508|                   2|               63619|                      83|                  674|             20183400|               19035|                         0|                         0|                             0|                          0|                         0|                  0|                  0|                      0|                   0|              744924|                  0|\n",
      "+----------+---------------+------------+----------+------+------------+---+--------------+-----------------+----------------------+----------+---------+---------+---------+---------+------------+-----------------+------------------+-------------+------------------+-------------------+-----------+--------------------+----------+---------+------------------+---------------+------------+--------------+------------------+-----------------+---------------+------------+--------------+-----------------+----------------+---------+------------+----------+---------+------+-----------+---------------+------+---------------+------------------+----------------+------------------+-----------------+-----------------+--------------------+------------------+--------------------+-------------------+----------------+-------------------+-----------------+-------------------+------------------+-------------+----------------+--------------+----------------+---------------+---------------+------------------+----------------+------------------+-----------------+---------------+----------------+---------------+------------+-------------+---------+---------+-------+----+-------+------------+-----------+---------------+---------------+-------------+-----------+----------------+--------------+----------------+------------------------------+----------+-------+-----------+------------+------------+------------------+--------------+----------------+----------------+------------+------------+-----------+-----------------+-------------+--------------+----------+--------+-----+------+------------------+----------+-------------+-----------------+--------------+----------+----------------+----------------+----------------------+------------------+---------------------+------------+---------------------------+---------------------+----------------+---------------------+----------------+----------------+-----------------+----------------+----------------+--------------+-----------------+-----------------+----------------+---------------------------+----------------------+----------------------+-----------------------+----------------------+----------------------+--------------------+-----------------------+-----------------------+-----------------------+----------------------+------------------+-------------+-------------+--------------+-------------+-------------+-----------+--------------+--------------+--------------+-------------+----------------------+-----------------+-----------------+------------------+-----------------+-----------------+---------------+------------------+------------------+------------------+-----------------+----------------------------+-----------------------+-----------------------+------------------------+-----------------------+-----------------------+---------------------+------------------------+------------------------+-----------------------+------------------+-------------+-------------+--------------+-------------+-------------+-----------+--------------+--------------+--------------+-------------+----------------------+-----------------+-----------------+------------------+-----------------+-----------------+---------------+------------------+------------------+------------------+-----------------+------------------+-------------+-------------+--------------+-------------+-------------+-----------+--------------+--------------+--------------+-------------+----------------------------+-----------------------+-----------------------+------------------------+-----------------------+-----------------------+---------------------+------------------------+------------------------+------------------------+-----------------------+--------------------+---------------+---------------+----------------+---------------+---------------+-------------+----------------+----------------+---------------+----------------------+-----------------+-----------------+------------------+-----------------+-----------------+---------------+------------------+------------------+------------------+-----------------+----------------------+-----------------+-----------------+------------------+-----------------+-----------------+---------------+------------------+------------------+------------------+-----------------+-----------------------------------+-----------------------------------+---------------------------------------+------------------------------------+-----------------------------------+------------------+------------------+----------------------+-------------------+------------------+-------------------------+-------------------------+-----------------------------+--------------------------+-------------------------+-------------------+-------------------+-----------------------+--------------------+-------------------+-------------------------+-------------------------+-----------------------------+--------------------------+--------------------------+-------------------------+----------------------------------+----------------------------------+--------------------------------------+-----------------------------------+-----------------------------------+----------------------------------+------------------------+------------------------+----------------------------+-------------------------+-------------------------+------------------------+----------------------------+----------------------------+--------------------------------+-----------------------------+----------------------------+----------------+----------------+--------------------+-----------------+----------------+----------------------------------+----------------------------------+--------------------------------------+-----------------------------------+----------------------------------+--------------+--------------+------------------+---------------+--------------+-------------+-------------+-----------------+--------------+-------------+------------------------------+------------------------------+----------------------------------+-------------------------------+------------------------------+---------------------------+---------------------------+-------------------------------+----------------------------+----------------------------+---------------------------+------------------------------+------------------------------+----------------------------------+-------------------------------+------------------------------+-----------------+-----------------+---------------------+------------------+-----------------+-------------------------------+-------------------------------+-----------------------------------+--------------------------------+--------------------------------+-------------------------------+--------------------------+--------------------------+------------------------------+---------------------------+--------------------------+-------------------------------+-------------------------------+-----------------------------------+--------------------------------+-------------------------------+--------------------------+--------------------------+------------------------------+---------------------------+--------------------------+---------------------------+---------------------------+-------------------------------+----------------------------+----------------------------+---------------------------+-------------------+-------------------+-----------------------+--------------------+-------------------+-----------------------+-----------------------+---------------------------+------------------------+-----------------------+--------------------+--------------------+------------------------+---------------------+--------------------+--------------------+--------------------+------------------------+---------------------+---------------------+--------------------+--------------------------+--------------------------+------------------------------+---------------------------+--------------------------+-------------------+-------------------+-----------------------+--------------------+--------------------+-------------------+\n",
      "\n"
     ]
    }
   ],
   "source": [
    "# run query\n",
    "players2 = my_spark.sql(query)\n",
    "# Show the results\n",
    "players2.show()"
   ]
  },
  {
   "cell_type": "code",
   "execution_count": 20,
   "metadata": {},
   "outputs": [
    {
     "data": {
      "text/html": [
       "<div>\n",
       "<style scoped>\n",
       "    .dataframe tbody tr th:only-of-type {\n",
       "        vertical-align: middle;\n",
       "    }\n",
       "\n",
       "    .dataframe tbody tr th {\n",
       "        vertical-align: top;\n",
       "    }\n",
       "\n",
       "    .dataframe thead th {\n",
       "        text-align: right;\n",
       "    }\n",
       "</style>\n",
       "<table border=\"1\" class=\"dataframe\">\n",
       "  <thead>\n",
       "    <tr style=\"text-align: right;\">\n",
       "      <th></th>\n",
       "      <th>name</th>\n",
       "      <th>sum(deaths)</th>\n",
       "    </tr>\n",
       "  </thead>\n",
       "  <tbody>\n",
       "    <tr>\n",
       "      <th>0</th>\n",
       "      <td>SK1RON1N</td>\n",
       "      <td>120548</td>\n",
       "    </tr>\n",
       "    <tr>\n",
       "      <th>1</th>\n",
       "      <td>lmmune Crown</td>\n",
       "      <td>126072</td>\n",
       "    </tr>\n",
       "    <tr>\n",
       "      <th>2</th>\n",
       "      <td>iUncleBadTouchx</td>\n",
       "      <td>72584</td>\n",
       "    </tr>\n",
       "    <tr>\n",
       "      <th>3</th>\n",
       "      <td>TastefulClover8</td>\n",
       "      <td>177857</td>\n",
       "    </tr>\n",
       "    <tr>\n",
       "      <th>4</th>\n",
       "      <td>XENOCIDER XIII</td>\n",
       "      <td>198874</td>\n",
       "    </tr>\n",
       "  </tbody>\n",
       "</table>\n",
       "</div>"
      ],
      "text/plain": [
       "              name  sum(deaths)\n",
       "0         SK1RON1N       120548\n",
       "1     lmmune Crown       126072\n",
       "2  iUncleBadTouchx        72584\n",
       "3  TastefulClover8       177857\n",
       "4   XENOCIDER XIII       198874"
      ]
     },
     "execution_count": 20,
     "metadata": {},
     "output_type": "execute_result"
    }
   ],
   "source": [
    "# Don't change this query\n",
    "query = \"SELECT name,SUM(deaths) FROM players GROUP BY name LIMIT 5\"\n",
    "\n",
    "# Run the query\n",
    "player_counts = my_spark.sql(query)\n",
    "\n",
    "# Convert the results to a pandas DataFrame\n",
    "death_counts = player_counts.toPandas()\n",
    "\n",
    "# Print the head of pd_counts\n",
    "death_counts.head()"
   ]
  },
  {
   "cell_type": "code",
   "execution_count": 21,
   "metadata": {},
   "outputs": [],
   "source": [
    "col_names = s_df.columns"
   ]
  },
  {
   "cell_type": "code",
   "execution_count": 22,
   "metadata": {},
   "outputs": [],
   "source": [
    "col_names = pd.DataFrame(col_names, columns=['title'])"
   ]
  },
  {
   "cell_type": "code",
   "execution_count": 23,
   "metadata": {
    "scrolled": false
   },
   "outputs": [
    {
     "data": {
      "text/html": [
       "<div>\n",
       "<style scoped>\n",
       "    .dataframe tbody tr th:only-of-type {\n",
       "        vertical-align: middle;\n",
       "    }\n",
       "\n",
       "    .dataframe tbody tr th {\n",
       "        vertical-align: top;\n",
       "    }\n",
       "\n",
       "    .dataframe thead th {\n",
       "        text-align: right;\n",
       "    }\n",
       "</style>\n",
       "<table border=\"1\" class=\"dataframe\">\n",
       "  <thead>\n",
       "    <tr style=\"text-align: right;\">\n",
       "      <th></th>\n",
       "      <th>title</th>\n",
       "    </tr>\n",
       "  </thead>\n",
       "  <tbody>\n",
       "    <tr>\n",
       "      <th>250</th>\n",
       "      <td>SIDEARM_stat_shots</td>\n",
       "    </tr>\n",
       "    <tr>\n",
       "      <th>251</th>\n",
       "      <td>SIDEARM_stat_time</td>\n",
       "    </tr>\n",
       "    <tr>\n",
       "      <th>252</th>\n",
       "      <td>Infantry_Fighting_Vehicle_extra_kpm</td>\n",
       "    </tr>\n",
       "    <tr>\n",
       "      <th>253</th>\n",
       "      <td>Infantry_Fighting_Vehicle_extra_spm</td>\n",
       "    </tr>\n",
       "    <tr>\n",
       "      <th>254</th>\n",
       "      <td>Infantry_Fighting_Vehicle_stat_destroys</td>\n",
       "    </tr>\n",
       "    <tr>\n",
       "      <th>255</th>\n",
       "      <td>Infantry_Fighting_Vehicle_stat_kills</td>\n",
       "    </tr>\n",
       "    <tr>\n",
       "      <th>256</th>\n",
       "      <td>Infantry_Fighting_Vehicle_stat_time</td>\n",
       "    </tr>\n",
       "    <tr>\n",
       "      <th>257</th>\n",
       "      <td>Anti_Air_extra_kpm</td>\n",
       "    </tr>\n",
       "    <tr>\n",
       "      <th>258</th>\n",
       "      <td>Anti_Air_extra_spm</td>\n",
       "    </tr>\n",
       "    <tr>\n",
       "      <th>259</th>\n",
       "      <td>Anti_Air_stat_destroys</td>\n",
       "    </tr>\n",
       "    <tr>\n",
       "      <th>260</th>\n",
       "      <td>Anti_Air_stat_kills</td>\n",
       "    </tr>\n",
       "    <tr>\n",
       "      <th>261</th>\n",
       "      <td>Anti_Air_stat_time</td>\n",
       "    </tr>\n",
       "    <tr>\n",
       "      <th>262</th>\n",
       "      <td>Transport_KA_60_extra_kpm</td>\n",
       "    </tr>\n",
       "    <tr>\n",
       "      <th>263</th>\n",
       "      <td>Transport_KA_60_extra_spm</td>\n",
       "    </tr>\n",
       "    <tr>\n",
       "      <th>264</th>\n",
       "      <td>Transport_KA_60_stat_destroys</td>\n",
       "    </tr>\n",
       "    <tr>\n",
       "      <th>265</th>\n",
       "      <td>Transport_KA_60_stat_kills</td>\n",
       "    </tr>\n",
       "    <tr>\n",
       "      <th>266</th>\n",
       "      <td>Transport_KA_60_stat_time</td>\n",
       "    </tr>\n",
       "    <tr>\n",
       "      <th>267</th>\n",
       "      <td>Transport_extra_kpm</td>\n",
       "    </tr>\n",
       "    <tr>\n",
       "      <th>268</th>\n",
       "      <td>Transport_extra_spm</td>\n",
       "    </tr>\n",
       "    <tr>\n",
       "      <th>269</th>\n",
       "      <td>Transport_stat_destroys</td>\n",
       "    </tr>\n",
       "    <tr>\n",
       "      <th>270</th>\n",
       "      <td>Transport_stat_kills</td>\n",
       "    </tr>\n",
       "    <tr>\n",
       "      <th>271</th>\n",
       "      <td>Transport_stat_time</td>\n",
       "    </tr>\n",
       "    <tr>\n",
       "      <th>272</th>\n",
       "      <td>Air_Jet_Stealth_extra_kpm</td>\n",
       "    </tr>\n",
       "    <tr>\n",
       "      <th>273</th>\n",
       "      <td>Air_Jet_Stealth_extra_spm</td>\n",
       "    </tr>\n",
       "    <tr>\n",
       "      <th>274</th>\n",
       "      <td>Air_Jet_Stealth_stat_destroys</td>\n",
       "    </tr>\n",
       "    <tr>\n",
       "      <th>275</th>\n",
       "      <td>Air_Jet_Stealth_stat_kills</td>\n",
       "    </tr>\n",
       "    <tr>\n",
       "      <th>276</th>\n",
       "      <td>Air_Jet_Stealth_stat_score</td>\n",
       "    </tr>\n",
       "    <tr>\n",
       "      <th>277</th>\n",
       "      <td>Air_Jet_Stealth_stat_time</td>\n",
       "    </tr>\n",
       "    <tr>\n",
       "      <th>278</th>\n",
       "      <td>Air_Helicopter_Scout_AH6_extra_kpm</td>\n",
       "    </tr>\n",
       "    <tr>\n",
       "      <th>279</th>\n",
       "      <td>Air_Helicopter_Scout_AH6_extra_spm</td>\n",
       "    </tr>\n",
       "    <tr>\n",
       "      <th>280</th>\n",
       "      <td>Air_Helicopter_Scout_AH6_stat_destroys</td>\n",
       "    </tr>\n",
       "    <tr>\n",
       "      <th>281</th>\n",
       "      <td>Air_Helicopter_Scout_AH6_stat_kills</td>\n",
       "    </tr>\n",
       "    <tr>\n",
       "      <th>282</th>\n",
       "      <td>Air_Helicopter_Scout_AH6_stat_score</td>\n",
       "    </tr>\n",
       "    <tr>\n",
       "      <th>283</th>\n",
       "      <td>Air_Helicopter_Scout_AH6_stat_time</td>\n",
       "    </tr>\n",
       "    <tr>\n",
       "      <th>284</th>\n",
       "      <td>Air_Jet_Attack_extra_kpm</td>\n",
       "    </tr>\n",
       "    <tr>\n",
       "      <th>285</th>\n",
       "      <td>Air_Jet_Attack_extra_spm</td>\n",
       "    </tr>\n",
       "    <tr>\n",
       "      <th>286</th>\n",
       "      <td>Air_Jet_Attack_stat_destroys</td>\n",
       "    </tr>\n",
       "    <tr>\n",
       "      <th>287</th>\n",
       "      <td>Air_Jet_Attack_stat_kills</td>\n",
       "    </tr>\n",
       "    <tr>\n",
       "      <th>288</th>\n",
       "      <td>Air_Jet_Attack_stat_score</td>\n",
       "    </tr>\n",
       "    <tr>\n",
       "      <th>289</th>\n",
       "      <td>Air_Jet_Attack_stat_time</td>\n",
       "    </tr>\n",
       "    <tr>\n",
       "      <th>290</th>\n",
       "      <td>Weapon_Stationary__extra_kpm</td>\n",
       "    </tr>\n",
       "    <tr>\n",
       "      <th>291</th>\n",
       "      <td>Weapon_Stationary__extra_spm</td>\n",
       "    </tr>\n",
       "    <tr>\n",
       "      <th>292</th>\n",
       "      <td>Weapon_Stationary__stat_destroys</td>\n",
       "    </tr>\n",
       "    <tr>\n",
       "      <th>293</th>\n",
       "      <td>Weapon_Stationary__stat_kills</td>\n",
       "    </tr>\n",
       "    <tr>\n",
       "      <th>294</th>\n",
       "      <td>Weapon_Stationary__stat_time</td>\n",
       "    </tr>\n",
       "    <tr>\n",
       "      <th>295</th>\n",
       "      <td>HIMARS_extra_kpm</td>\n",
       "    </tr>\n",
       "    <tr>\n",
       "      <th>296</th>\n",
       "      <td>HIMARS_extra_spm</td>\n",
       "    </tr>\n",
       "    <tr>\n",
       "      <th>297</th>\n",
       "      <td>HIMARS_stat_destroys</td>\n",
       "    </tr>\n",
       "    <tr>\n",
       "      <th>298</th>\n",
       "      <td>HIMARS_stat_kills</td>\n",
       "    </tr>\n",
       "    <tr>\n",
       "      <th>299</th>\n",
       "      <td>HIMARS_stat_time</td>\n",
       "    </tr>\n",
       "  </tbody>\n",
       "</table>\n",
       "</div>"
      ],
      "text/plain": [
       "                                       title\n",
       "250                       SIDEARM_stat_shots\n",
       "251                        SIDEARM_stat_time\n",
       "252      Infantry_Fighting_Vehicle_extra_kpm\n",
       "253      Infantry_Fighting_Vehicle_extra_spm\n",
       "254  Infantry_Fighting_Vehicle_stat_destroys\n",
       "255     Infantry_Fighting_Vehicle_stat_kills\n",
       "256      Infantry_Fighting_Vehicle_stat_time\n",
       "257                       Anti_Air_extra_kpm\n",
       "258                       Anti_Air_extra_spm\n",
       "259                   Anti_Air_stat_destroys\n",
       "260                      Anti_Air_stat_kills\n",
       "261                       Anti_Air_stat_time\n",
       "262                Transport_KA_60_extra_kpm\n",
       "263                Transport_KA_60_extra_spm\n",
       "264            Transport_KA_60_stat_destroys\n",
       "265               Transport_KA_60_stat_kills\n",
       "266                Transport_KA_60_stat_time\n",
       "267                      Transport_extra_kpm\n",
       "268                      Transport_extra_spm\n",
       "269                  Transport_stat_destroys\n",
       "270                     Transport_stat_kills\n",
       "271                      Transport_stat_time\n",
       "272                Air_Jet_Stealth_extra_kpm\n",
       "273                Air_Jet_Stealth_extra_spm\n",
       "274            Air_Jet_Stealth_stat_destroys\n",
       "275               Air_Jet_Stealth_stat_kills\n",
       "276               Air_Jet_Stealth_stat_score\n",
       "277                Air_Jet_Stealth_stat_time\n",
       "278       Air_Helicopter_Scout_AH6_extra_kpm\n",
       "279       Air_Helicopter_Scout_AH6_extra_spm\n",
       "280   Air_Helicopter_Scout_AH6_stat_destroys\n",
       "281      Air_Helicopter_Scout_AH6_stat_kills\n",
       "282      Air_Helicopter_Scout_AH6_stat_score\n",
       "283       Air_Helicopter_Scout_AH6_stat_time\n",
       "284                 Air_Jet_Attack_extra_kpm\n",
       "285                 Air_Jet_Attack_extra_spm\n",
       "286             Air_Jet_Attack_stat_destroys\n",
       "287                Air_Jet_Attack_stat_kills\n",
       "288                Air_Jet_Attack_stat_score\n",
       "289                 Air_Jet_Attack_stat_time\n",
       "290             Weapon_Stationary__extra_kpm\n",
       "291             Weapon_Stationary__extra_spm\n",
       "292         Weapon_Stationary__stat_destroys\n",
       "293            Weapon_Stationary__stat_kills\n",
       "294             Weapon_Stationary__stat_time\n",
       "295                         HIMARS_extra_kpm\n",
       "296                         HIMARS_extra_spm\n",
       "297                     HIMARS_stat_destroys\n",
       "298                        HIMARS_stat_kills\n",
       "299                         HIMARS_stat_time"
      ]
     },
     "execution_count": 23,
     "metadata": {},
     "output_type": "execute_result"
    }
   ],
   "source": [
    "col_names[250:300]"
   ]
  },
  {
   "cell_type": "code",
   "execution_count": 24,
   "metadata": {
    "scrolled": true
   },
   "outputs": [
    {
     "data": {
      "text/html": [
       "<div>\n",
       "<style scoped>\n",
       "    .dataframe tbody tr th:only-of-type {\n",
       "        vertical-align: middle;\n",
       "    }\n",
       "\n",
       "    .dataframe tbody tr th {\n",
       "        vertical-align: top;\n",
       "    }\n",
       "\n",
       "    .dataframe thead th {\n",
       "        text-align: right;\n",
       "    }\n",
       "</style>\n",
       "<table border=\"1\" class=\"dataframe\">\n",
       "  <thead>\n",
       "    <tr style=\"text-align: right;\">\n",
       "      <th></th>\n",
       "      <th>title</th>\n",
       "    </tr>\n",
       "  </thead>\n",
       "  <tbody>\n",
       "    <tr>\n",
       "      <th>390</th>\n",
       "      <td>AA_LAV_AD_extra_spm</td>\n",
       "    </tr>\n",
       "    <tr>\n",
       "      <th>391</th>\n",
       "      <td>AA_LAV_AD_stat_destroys</td>\n",
       "    </tr>\n",
       "    <tr>\n",
       "      <th>392</th>\n",
       "      <td>AA_LAV_AD_stat_kills</td>\n",
       "    </tr>\n",
       "    <tr>\n",
       "      <th>393</th>\n",
       "      <td>AA_LAV_AD_stat_score</td>\n",
       "    </tr>\n",
       "    <tr>\n",
       "      <th>394</th>\n",
       "      <td>AA_LAV_AD_stat_time</td>\n",
       "    </tr>\n",
       "  </tbody>\n",
       "</table>\n",
       "</div>"
      ],
      "text/plain": [
       "                       title\n",
       "390      AA_LAV_AD_extra_spm\n",
       "391  AA_LAV_AD_stat_destroys\n",
       "392     AA_LAV_AD_stat_kills\n",
       "393     AA_LAV_AD_stat_score\n",
       "394      AA_LAV_AD_stat_time"
      ]
     },
     "execution_count": 24,
     "metadata": {},
     "output_type": "execute_result"
    }
   ],
   "source": [
    "col_names = col_names[1:]\n",
    "col_names.tail()"
   ]
  },
  {
   "cell_type": "code",
   "execution_count": 25,
   "metadata": {},
   "outputs": [
    {
     "ename": "Py4JJavaError",
     "evalue": "An error occurred while calling o2695.collectToPython.\n: java.lang.OutOfMemoryError: Java heap space\n\tat java.util.Arrays.copyOf(Arrays.java:3332)\n\tat java.lang.AbstractStringBuilder.ensureCapacityInternal(AbstractStringBuilder.java:124)\n\tat java.lang.AbstractStringBuilder.append(AbstractStringBuilder.java:448)\n\tat java.lang.StringBuilder.append(StringBuilder.java:136)\n\tat scala.StringContext.standardInterpolator(StringContext.scala:126)\n\tat scala.StringContext.s(StringContext.scala:95)\n\tat org.apache.spark.sql.execution.QueryExecution.toString(QueryExecution.scala:200)\n\tat org.apache.spark.sql.execution.SQLExecution$$anonfun$withNewExecutionId$1.apply(SQLExecution.scala:75)\n\tat org.apache.spark.sql.execution.SQLExecution$.withSQLConfPropagated(SQLExecution.scala:125)\n\tat org.apache.spark.sql.execution.SQLExecution$.withNewExecutionId(SQLExecution.scala:73)\n\tat org.apache.spark.sql.Dataset.withAction(Dataset.scala:3363)\n\tat org.apache.spark.sql.Dataset.collectToPython(Dataset.scala:3254)\n\tat sun.reflect.GeneratedMethodAccessor68.invoke(Unknown Source)\n\tat sun.reflect.DelegatingMethodAccessorImpl.invoke(DelegatingMethodAccessorImpl.java:43)\n\tat java.lang.reflect.Method.invoke(Method.java:498)\n\tat py4j.reflection.MethodInvoker.invoke(MethodInvoker.java:244)\n\tat py4j.reflection.ReflectionEngine.invoke(ReflectionEngine.java:357)\n\tat py4j.Gateway.invoke(Gateway.java:282)\n\tat py4j.commands.AbstractCommand.invokeMethod(AbstractCommand.java:132)\n\tat py4j.commands.CallCommand.execute(CallCommand.java:79)\n\tat py4j.GatewayConnection.run(GatewayConnection.java:238)\n\tat java.lang.Thread.run(Thread.java:748)\n",
     "output_type": "error",
     "traceback": [
      "\u001b[0;31m---------------------------------------------------------------------------\u001b[0m",
      "\u001b[0;31mPy4JJavaError\u001b[0m                             Traceback (most recent call last)",
      "\u001b[0;32m<ipython-input-25-f56a34108465>\u001b[0m in \u001b[0;36m<module>\u001b[0;34m\u001b[0m\n\u001b[1;32m      5\u001b[0m     \u001b[0mquery\u001b[0m \u001b[0;34m=\u001b[0m \u001b[0;34m\"SELECT COUNT (DISTINCT \"\u001b[0m\u001b[0;34m+\u001b[0m \u001b[0mstr\u001b[0m\u001b[0;34m(\u001b[0m\u001b[0mrow\u001b[0m\u001b[0;34m[\u001b[0m\u001b[0;36m0\u001b[0m\u001b[0;34m]\u001b[0m\u001b[0;34m)\u001b[0m \u001b[0;34m+\u001b[0m \u001b[0;34m\") as count FROM players \"\u001b[0m\u001b[0;34m\u001b[0m\u001b[0m\n\u001b[1;32m      6\u001b[0m     \u001b[0mtmp1\u001b[0m \u001b[0;34m=\u001b[0m \u001b[0mmy_spark\u001b[0m\u001b[0;34m.\u001b[0m\u001b[0msql\u001b[0m\u001b[0;34m(\u001b[0m\u001b[0mquery\u001b[0m\u001b[0;34m)\u001b[0m\u001b[0;34m\u001b[0m\u001b[0m\n\u001b[0;32m----> 7\u001b[0;31m     \u001b[0mtmp2\u001b[0m \u001b[0;34m=\u001b[0m \u001b[0mtmp1\u001b[0m\u001b[0;34m.\u001b[0m\u001b[0mtoPandas\u001b[0m\u001b[0;34m(\u001b[0m\u001b[0;34m)\u001b[0m\u001b[0;34m\u001b[0m\u001b[0m\n\u001b[0m\u001b[1;32m      8\u001b[0m     \u001b[0mtmp2\u001b[0m\u001b[0;34m[\u001b[0m\u001b[0;34m'index'\u001b[0m\u001b[0;34m]\u001b[0m \u001b[0;34m=\u001b[0m \u001b[0mint\u001b[0m\u001b[0;34m(\u001b[0m\u001b[0mindex\u001b[0m\u001b[0;34m)\u001b[0m\u001b[0;34m\u001b[0m\u001b[0m\n\u001b[1;32m      9\u001b[0m     \u001b[0mnewDF\u001b[0m \u001b[0;34m=\u001b[0m \u001b[0mnewDF\u001b[0m\u001b[0;34m.\u001b[0m\u001b[0mappend\u001b[0m\u001b[0;34m(\u001b[0m\u001b[0mtmp2\u001b[0m\u001b[0;34m)\u001b[0m\u001b[0;34m\u001b[0m\u001b[0m\n",
      "\u001b[0;32m~/spark/python/pyspark/sql/dataframe.py\u001b[0m in \u001b[0;36mtoPandas\u001b[0;34m(self)\u001b[0m\n\u001b[1;32m   2140\u001b[0m \u001b[0;34m\u001b[0m\u001b[0m\n\u001b[1;32m   2141\u001b[0m         \u001b[0;31m# Below is toPandas without Arrow optimization.\u001b[0m\u001b[0;34m\u001b[0m\u001b[0;34m\u001b[0m\u001b[0m\n\u001b[0;32m-> 2142\u001b[0;31m         \u001b[0mpdf\u001b[0m \u001b[0;34m=\u001b[0m \u001b[0mpd\u001b[0m\u001b[0;34m.\u001b[0m\u001b[0mDataFrame\u001b[0m\u001b[0;34m.\u001b[0m\u001b[0mfrom_records\u001b[0m\u001b[0;34m(\u001b[0m\u001b[0mself\u001b[0m\u001b[0;34m.\u001b[0m\u001b[0mcollect\u001b[0m\u001b[0;34m(\u001b[0m\u001b[0;34m)\u001b[0m\u001b[0;34m,\u001b[0m \u001b[0mcolumns\u001b[0m\u001b[0;34m=\u001b[0m\u001b[0mself\u001b[0m\u001b[0;34m.\u001b[0m\u001b[0mcolumns\u001b[0m\u001b[0;34m)\u001b[0m\u001b[0;34m\u001b[0m\u001b[0m\n\u001b[0m\u001b[1;32m   2143\u001b[0m \u001b[0;34m\u001b[0m\u001b[0m\n\u001b[1;32m   2144\u001b[0m         \u001b[0mdtype\u001b[0m \u001b[0;34m=\u001b[0m \u001b[0;34m{\u001b[0m\u001b[0;34m}\u001b[0m\u001b[0;34m\u001b[0m\u001b[0m\n",
      "\u001b[0;32m~/spark/python/pyspark/sql/dataframe.py\u001b[0m in \u001b[0;36mcollect\u001b[0;34m(self)\u001b[0m\n\u001b[1;32m    531\u001b[0m         \"\"\"\n\u001b[1;32m    532\u001b[0m         \u001b[0;32mwith\u001b[0m \u001b[0mSCCallSiteSync\u001b[0m\u001b[0;34m(\u001b[0m\u001b[0mself\u001b[0m\u001b[0;34m.\u001b[0m\u001b[0m_sc\u001b[0m\u001b[0;34m)\u001b[0m \u001b[0;32mas\u001b[0m \u001b[0mcss\u001b[0m\u001b[0;34m:\u001b[0m\u001b[0;34m\u001b[0m\u001b[0m\n\u001b[0;32m--> 533\u001b[0;31m             \u001b[0msock_info\u001b[0m \u001b[0;34m=\u001b[0m \u001b[0mself\u001b[0m\u001b[0;34m.\u001b[0m\u001b[0m_jdf\u001b[0m\u001b[0;34m.\u001b[0m\u001b[0mcollectToPython\u001b[0m\u001b[0;34m(\u001b[0m\u001b[0;34m)\u001b[0m\u001b[0;34m\u001b[0m\u001b[0m\n\u001b[0m\u001b[1;32m    534\u001b[0m         \u001b[0;32mreturn\u001b[0m \u001b[0mlist\u001b[0m\u001b[0;34m(\u001b[0m\u001b[0m_load_from_socket\u001b[0m\u001b[0;34m(\u001b[0m\u001b[0msock_info\u001b[0m\u001b[0;34m,\u001b[0m \u001b[0mBatchedSerializer\u001b[0m\u001b[0;34m(\u001b[0m\u001b[0mPickleSerializer\u001b[0m\u001b[0;34m(\u001b[0m\u001b[0;34m)\u001b[0m\u001b[0;34m)\u001b[0m\u001b[0;34m)\u001b[0m\u001b[0;34m)\u001b[0m\u001b[0;34m\u001b[0m\u001b[0m\n\u001b[1;32m    535\u001b[0m \u001b[0;34m\u001b[0m\u001b[0m\n",
      "\u001b[0;32mspark/python/lib/py4j-0.10.7-src.zip/py4j/java_gateway.py\u001b[0m in \u001b[0;36m__call__\u001b[0;34m(self, *args)\u001b[0m\n\u001b[1;32m   1255\u001b[0m         \u001b[0manswer\u001b[0m \u001b[0;34m=\u001b[0m \u001b[0mself\u001b[0m\u001b[0;34m.\u001b[0m\u001b[0mgateway_client\u001b[0m\u001b[0;34m.\u001b[0m\u001b[0msend_command\u001b[0m\u001b[0;34m(\u001b[0m\u001b[0mcommand\u001b[0m\u001b[0;34m)\u001b[0m\u001b[0;34m\u001b[0m\u001b[0m\n\u001b[1;32m   1256\u001b[0m         return_value = get_return_value(\n\u001b[0;32m-> 1257\u001b[0;31m             answer, self.gateway_client, self.target_id, self.name)\n\u001b[0m\u001b[1;32m   1258\u001b[0m \u001b[0;34m\u001b[0m\u001b[0m\n\u001b[1;32m   1259\u001b[0m         \u001b[0;32mfor\u001b[0m \u001b[0mtemp_arg\u001b[0m \u001b[0;32min\u001b[0m \u001b[0mtemp_args\u001b[0m\u001b[0;34m:\u001b[0m\u001b[0;34m\u001b[0m\u001b[0m\n",
      "\u001b[0;32m~/spark/python/pyspark/sql/utils.py\u001b[0m in \u001b[0;36mdeco\u001b[0;34m(*a, **kw)\u001b[0m\n\u001b[1;32m     61\u001b[0m     \u001b[0;32mdef\u001b[0m \u001b[0mdeco\u001b[0m\u001b[0;34m(\u001b[0m\u001b[0;34m*\u001b[0m\u001b[0ma\u001b[0m\u001b[0;34m,\u001b[0m \u001b[0;34m**\u001b[0m\u001b[0mkw\u001b[0m\u001b[0;34m)\u001b[0m\u001b[0;34m:\u001b[0m\u001b[0;34m\u001b[0m\u001b[0m\n\u001b[1;32m     62\u001b[0m         \u001b[0;32mtry\u001b[0m\u001b[0;34m:\u001b[0m\u001b[0;34m\u001b[0m\u001b[0m\n\u001b[0;32m---> 63\u001b[0;31m             \u001b[0;32mreturn\u001b[0m \u001b[0mf\u001b[0m\u001b[0;34m(\u001b[0m\u001b[0;34m*\u001b[0m\u001b[0ma\u001b[0m\u001b[0;34m,\u001b[0m \u001b[0;34m**\u001b[0m\u001b[0mkw\u001b[0m\u001b[0;34m)\u001b[0m\u001b[0;34m\u001b[0m\u001b[0m\n\u001b[0m\u001b[1;32m     64\u001b[0m         \u001b[0;32mexcept\u001b[0m \u001b[0mpy4j\u001b[0m\u001b[0;34m.\u001b[0m\u001b[0mprotocol\u001b[0m\u001b[0;34m.\u001b[0m\u001b[0mPy4JJavaError\u001b[0m \u001b[0;32mas\u001b[0m \u001b[0me\u001b[0m\u001b[0;34m:\u001b[0m\u001b[0;34m\u001b[0m\u001b[0m\n\u001b[1;32m     65\u001b[0m             \u001b[0ms\u001b[0m \u001b[0;34m=\u001b[0m \u001b[0me\u001b[0m\u001b[0;34m.\u001b[0m\u001b[0mjava_exception\u001b[0m\u001b[0;34m.\u001b[0m\u001b[0mtoString\u001b[0m\u001b[0;34m(\u001b[0m\u001b[0;34m)\u001b[0m\u001b[0;34m\u001b[0m\u001b[0m\n",
      "\u001b[0;32mspark/python/lib/py4j-0.10.7-src.zip/py4j/protocol.py\u001b[0m in \u001b[0;36mget_return_value\u001b[0;34m(answer, gateway_client, target_id, name)\u001b[0m\n\u001b[1;32m    326\u001b[0m                 raise Py4JJavaError(\n\u001b[1;32m    327\u001b[0m                     \u001b[0;34m\"An error occurred while calling {0}{1}{2}.\\n\"\u001b[0m\u001b[0;34m.\u001b[0m\u001b[0;34m\u001b[0m\u001b[0m\n\u001b[0;32m--> 328\u001b[0;31m                     format(target_id, \".\", name), value)\n\u001b[0m\u001b[1;32m    329\u001b[0m             \u001b[0;32melse\u001b[0m\u001b[0;34m:\u001b[0m\u001b[0;34m\u001b[0m\u001b[0m\n\u001b[1;32m    330\u001b[0m                 raise Py4JError(\n",
      "\u001b[0;31mPy4JJavaError\u001b[0m: An error occurred while calling o2695.collectToPython.\n: java.lang.OutOfMemoryError: Java heap space\n\tat java.util.Arrays.copyOf(Arrays.java:3332)\n\tat java.lang.AbstractStringBuilder.ensureCapacityInternal(AbstractStringBuilder.java:124)\n\tat java.lang.AbstractStringBuilder.append(AbstractStringBuilder.java:448)\n\tat java.lang.StringBuilder.append(StringBuilder.java:136)\n\tat scala.StringContext.standardInterpolator(StringContext.scala:126)\n\tat scala.StringContext.s(StringContext.scala:95)\n\tat org.apache.spark.sql.execution.QueryExecution.toString(QueryExecution.scala:200)\n\tat org.apache.spark.sql.execution.SQLExecution$$anonfun$withNewExecutionId$1.apply(SQLExecution.scala:75)\n\tat org.apache.spark.sql.execution.SQLExecution$.withSQLConfPropagated(SQLExecution.scala:125)\n\tat org.apache.spark.sql.execution.SQLExecution$.withNewExecutionId(SQLExecution.scala:73)\n\tat org.apache.spark.sql.Dataset.withAction(Dataset.scala:3363)\n\tat org.apache.spark.sql.Dataset.collectToPython(Dataset.scala:3254)\n\tat sun.reflect.GeneratedMethodAccessor68.invoke(Unknown Source)\n\tat sun.reflect.DelegatingMethodAccessorImpl.invoke(DelegatingMethodAccessorImpl.java:43)\n\tat java.lang.reflect.Method.invoke(Method.java:498)\n\tat py4j.reflection.MethodInvoker.invoke(MethodInvoker.java:244)\n\tat py4j.reflection.ReflectionEngine.invoke(ReflectionEngine.java:357)\n\tat py4j.Gateway.invoke(Gateway.java:282)\n\tat py4j.commands.AbstractCommand.invokeMethod(AbstractCommand.java:132)\n\tat py4j.commands.CallCommand.execute(CallCommand.java:79)\n\tat py4j.GatewayConnection.run(GatewayConnection.java:238)\n\tat java.lang.Thread.run(Thread.java:748)\n"
     ]
    }
   ],
   "source": [
    "from pyspark.sql.functions import col, countDistinct\n",
    "newDF = pd.DataFrame()\n",
    "\n",
    "for index, row in col_names.iterrows():\n",
    "    query = \"SELECT COUNT (DISTINCT \"+ str(row[0]) + \") as count FROM players \"\n",
    "    tmp1 = my_spark.sql(query)\n",
    "    tmp2 = tmp1.toPandas()\n",
    "    tmp2['index'] = int(index)\n",
    "    newDF = newDF.append(tmp2)\n",
    "\n",
    "newDF = newDF.set_index('index').join(df_col)\n",
    "newDF = newDF[['title','count']]"
   ]
  },
  {
   "cell_type": "code",
   "execution_count": null,
   "metadata": {
    "scrolled": true
   },
   "outputs": [],
   "source": [
    "newDF"
   ]
  },
  {
   "cell_type": "code",
   "execution_count": null,
   "metadata": {
    "scrolled": true
   },
   "outputs": [],
   "source": [
    "sc.stop()"
   ]
  },
  {
   "cell_type": "code",
   "execution_count": null,
   "metadata": {},
   "outputs": [],
   "source": []
  }
 ],
 "metadata": {
  "kernelspec": {
   "display_name": "Python 3",
   "language": "python",
   "name": "python3"
  },
  "language_info": {
   "codemirror_mode": {
    "name": "ipython",
    "version": 3
   },
   "file_extension": ".py",
   "mimetype": "text/x-python",
   "name": "python",
   "nbconvert_exporter": "python",
   "pygments_lexer": "ipython3",
   "version": "3.5.2"
  }
 },
 "nbformat": 4,
 "nbformat_minor": 2
}
